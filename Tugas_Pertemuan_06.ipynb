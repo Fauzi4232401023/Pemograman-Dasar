{
  "nbformat": 4,
  "nbformat_minor": 0,
  "metadata": {
    "colab": {
      "provenance": [],
      "authorship_tag": "ABX9TyNlAwQYThTHhRtGm7h/b9Xc",
      "include_colab_link": true
    },
    "kernelspec": {
      "name": "python3",
      "display_name": "Python 3"
    },
    "language_info": {
      "name": "python"
    }
  },
  "cells": [
    {
      "cell_type": "markdown",
      "metadata": {
        "id": "view-in-github",
        "colab_type": "text"
      },
      "source": [
        "<a href=\"https://colab.research.google.com/github/Fauzi4232401023/Pemograman-Dasar/blob/main/Tugas_Pertemuan_06.ipynb\" target=\"_parent\"><img src=\"https://colab.research.google.com/assets/colab-badge.svg\" alt=\"Open In Colab\"/></a>"
      ]
    },
    {
      "cell_type": "code",
      "source": [
        "def penilaian_restoran(data_menu):\n",
        "    hasil = {}           # dictionary (non-primitif)\n",
        "    semua_kategori = set()  # set (non-primitif)\n",
        "\n",
        "    # perulangan for untuk membaca setiap menu\n",
        "    for menu, rating in data_menu.items():\n",
        "        rata = sum(rating) / len(rating)  # tuple (non-primitif)\n",
        "\n",
        "        # percabangan if-elif-else\n",
        "        if rata >= 4.5:\n",
        "            kategori = \"Sangat Baik\"\n",
        "        elif rata >= 3.5:\n",
        "            kategori = \"Baik\"\n",
        "        elif rata >= 2.5:\n",
        "            kategori = \"Cukup\"\n",
        "        else:\n",
        "            kategori = \"Kurang\"\n",
        "\n",
        "        semua_kategori.add(kategori)\n",
        "        hasil[menu] = {\"Rata-rata\": rata, \"Kategori\": kategori}\n",
        "\n",
        "    # perulangan while untuk menampilkan hasil\n",
        "    menu_list = list(hasil.keys())\n",
        "    i = 0\n",
        "    while i < len(menu_list):\n",
        "        menu = menu_list[i]\n",
        "        data = hasil[menu]\n",
        "        print(f\"{menu}: Rata-rata {data['Rata-rata']:.2f} - {data['Kategori']}\")\n",
        "        i += 1\n",
        "\n",
        "    print(\"\\nKategori yang ada:\", semua_kategori)\n",
        "\n",
        "    # boolean primitif\n",
        "    layak = all(item[\"Rata-rata\"] >= 3.0 for item in hasil.values())\n",
        "    if layak:\n",
        "        print(\"\\nRestoran dinilai layak oleh pelanggan \")\n",
        "    else:\n",
        "        print(\"\\nRestoran perlu meningkatkan kualitas \")\n",
        "\n",
        "\n",
        "# Data contoh (dictionary berisi tuple rating dari pelanggan)\n",
        "menu_data = {\n",
        "    \"Nasi Goreng\": (5, 4, 4, 5),\n",
        "    \"Mie Ayam\": (3, 3, 4, 2),\n",
        "    \"Sate Ayam\": (5, 5, 5, 4)\n",
        "}\n",
        "\n",
        "# Panggil fungsi\n",
        "penilaian_restoran(menu_data)\n"
      ],
      "metadata": {
        "colab": {
          "base_uri": "https://localhost:8080/"
        },
        "id": "nrQLO2Qjwize",
        "outputId": "0af56f27-a1df-491b-a200-08517b0fd6a5"
      },
      "execution_count": 14,
      "outputs": [
        {
          "output_type": "stream",
          "name": "stdout",
          "text": [
            "Nasi Goreng: Rata-rata 4.50 - Sangat Baik\n",
            "Mie Ayam: Rata-rata 3.00 - Cukup\n",
            "Sate Ayam: Rata-rata 4.75 - Sangat Baik\n",
            "\n",
            "Kategori yang ada: {'Sangat Baik', 'Cukup'}\n",
            "\n",
            "Restoran dinilai layak oleh pelanggan \n"
          ]
        }
      ]
    }
  ]
}