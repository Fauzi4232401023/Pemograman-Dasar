{
  "nbformat": 4,
  "nbformat_minor": 0,
  "metadata": {
    "colab": {
      "provenance": [],
      "authorship_tag": "ABX9TyNEsYs6/e3q8xMCyOUfR7S1",
      "include_colab_link": true
    },
    "kernelspec": {
      "name": "python3",
      "display_name": "Python 3"
    },
    "language_info": {
      "name": "python"
    }
  },
  "cells": [
    {
      "cell_type": "markdown",
      "metadata": {
        "id": "view-in-github",
        "colab_type": "text"
      },
      "source": [
        "<a href=\"https://colab.research.google.com/github/Fauzi4232401023/Pemograman-Dasar/blob/main/Hasil_praktikum_pertemuan_03.ipynb\" target=\"_parent\"><img src=\"https://colab.research.google.com/assets/colab-badge.svg\" alt=\"Open In Colab\"/></a>"
      ]
    },
    {
      "cell_type": "code",
      "execution_count": 2,
      "metadata": {
        "colab": {
          "base_uri": "https://localhost:8080/"
        },
        "id": "FOJPkELSfxM0",
        "outputId": "ecc6a6f0-480d-4cff-81cb-639c2e7d1bc5"
      },
      "outputs": [
        {
          "output_type": "stream",
          "name": "stdout",
          "text": [
            "berapa banyak buah yang dibeli oleh orang itu? : 15\n",
            "siapa nama orang yang membeli buah itu? : fauzi\n",
            "berapa banyak buah yang dibeli oleh orang itu? : 15.0\n",
            "siapa nama orang yang membeli buah itu? :  fauzi\n"
          ]
        }
      ],
      "source": [
        "total = float (input (\"berapa banyak buah yang dibeli oleh orang itu? : \"))\n",
        "nama = str (input(\"siapa nama orang yang membeli buah itu? : \"))\n",
        "\n",
        "print(\"berapa banyak buah yang dibeli oleh orang itu? :\" , total)\n",
        "print(\"siapa nama orang yang membeli buah itu? : \" , nama)"
      ]
    },
    {
      "cell_type": "code",
      "source": [
        "# Integer (%d)\n",
        "jumlah = 3\n",
        "print(\"Fauzi membaca %d buku di perpustakaan\" % (jumlah))\n",
        "\n",
        "# Float (%f)\n",
        "nilai = 87.65\n",
        "print(\"Rata-rata nilai ujian adalah %.2f\" % (nilai))\n",
        "\n",
        "# String (%s)\n",
        "pelajaran = \"Ekonomi\"\n",
        "print(\"Hari ini kelas membahas pelajaran %s\" % (pelajaran))\n",
        "\n",
        "# Hexadecimal (%x)\n",
        "angka_hex = 255\n",
        "print(\"Angka %d dalam hexadecimal adalah %x\" % (angka_hex, angka_hex))\n",
        "\n",
        "# Octal (%o)\n",
        "angka_oktal = 16\n",
        "print(\"Angka %d dalam octal adalah %o\" % (angka_oktal, angka_oktal))\n"
      ],
      "metadata": {
        "id": "vF_eig3_yg5a",
        "colab": {
          "base_uri": "https://localhost:8080/"
        },
        "outputId": "fd072bcc-bf9e-4148-da3d-d41323698ec7"
      },
      "execution_count": 9,
      "outputs": [
        {
          "output_type": "stream",
          "name": "stdout",
          "text": [
            "Fauzi membaca 3 buku di perpustakaan\n",
            "Rata-rata nilai ujian adalah 87.65\n",
            "Hari ini kelas membahas pelajaran Ekonomi\n",
            "Angka 255 dalam hexadecimal adalah ff\n",
            "Angka 16 dalam octal adalah 20\n"
          ]
        }
      ]
    },
    {
      "cell_type": "code",
      "source": [
        "# Kalkulator sederhana\n",
        "a = 50\n",
        "b = 5\n",
        "print(\"Penjumlahan:\", a + b)\n",
        "print(\"Pengurangan:\", a - b)\n",
        "print(\"Perkalian:\", a * b)\n",
        "print(\"Pembagian:\", a / b)\n"
      ],
      "metadata": {
        "colab": {
          "base_uri": "https://localhost:8080/"
        },
        "id": "HGy7uMWtVycN",
        "outputId": "620bd7fd-0370-41da-aa1d-0e4f5fb73068"
      },
      "execution_count": 12,
      "outputs": [
        {
          "output_type": "stream",
          "name": "stdout",
          "text": [
            "Penjumlahan: 55\n",
            "Pengurangan: 45\n",
            "Perkalian: 250\n",
            "Pembagian: 10.0\n"
          ]
        }
      ]
    },
    {
      "cell_type": "code",
      "source": [
        "# Kalkulator kasir\n",
        "harga_makan = int(input(\"Berapa harga mi ayam per porsi? \"))\n",
        "jumlah_makan = int(input(\"Berapa porsi yang Anda beli? \"))\n",
        "total_makan = harga_makan * jumlah_makan\n",
        "\n",
        "print(f\"Harga makan per porsi = {harga_makan}, totalnya adalah {total_makan}\")\n"
      ],
      "metadata": {
        "colab": {
          "base_uri": "https://localhost:8080/"
        },
        "id": "3yUV4r01ZvEb",
        "outputId": "c95d65c9-c463-4913-f16d-b4be1d2cdf14"
      },
      "execution_count": 15,
      "outputs": [
        {
          "output_type": "stream",
          "name": "stdout",
          "text": [
            "Berapa harga mi ayam per porsi? 13000\n",
            "Berapa porsi yang Anda beli? 4\n",
            "Harga makan per porsi = 13000, totalnya adalah 52000\n"
          ]
        }
      ]
    },
    {
      "cell_type": "code",
      "source": [
        "# Mengecek bilangan\n",
        "bilangan = 17\n",
        "hasil = (bilangan > 0) and (bilangan % 2 == 0)\n",
        "print(\"Genap dan positif?\", hasil)\n"
      ],
      "metadata": {
        "colab": {
          "base_uri": "https://localhost:8080/"
        },
        "id": "4-rgepLaaDDs",
        "outputId": "68c518b0-f87e-4c9d-e28e-0d9e659918da"
      },
      "execution_count": 17,
      "outputs": [
        {
          "output_type": "stream",
          "name": "stdout",
          "text": [
            "Genap dan positif? False\n"
          ]
        }
      ]
    },
    {
      "cell_type": "code",
      "source": [
        "# Konversi waktu dari total detik ke Jam:Menit:Detik\n",
        "\n",
        "# Input dari keyboard\n",
        "total_detik = int(input(\"Masukkan total detik: \"))\n",
        "\n",
        "# Proses konversi\n",
        "jam = total_detik // 3600\n",
        "sisa_detik = total_detik % 3600\n",
        "menit = sisa_detik // 60\n",
        "detik = sisa_detik % 60\n",
        "\n",
        "# Output hasil konversi\n",
        "print(f\"Hasil Konversi: {jam} Jam, {menit} Menit, {detik} Detik\")\n"
      ],
      "metadata": {
        "colab": {
          "base_uri": "https://localhost:8080/"
        },
        "id": "J5M4i3AzdO-L",
        "outputId": "797bff7b-adde-43dc-9995-aa7ec6b0b20e"
      },
      "execution_count": 19,
      "outputs": [
        {
          "output_type": "stream",
          "name": "stdout",
          "text": [
            "Masukkan total detik: 358200\n",
            "Hasil Konversi: 99 Jam, 30 Menit, 0 Detik\n"
          ]
        }
      ]
    },
    {
      "cell_type": "code",
      "source": [
        "# Input nilai mahasiswa\n",
        "tugas1 = float(input(\"Masukkan nilai Tugas 1: \"))\n",
        "tugas2 = float(input(\"Masukkan nilai Tugas 2: \"))\n",
        "tugas3 = float(input(\"Masukkan nilai Tugas 3: \"))\n",
        "uts = float(input(\"Masukkan nilai UTS: \"))\n",
        "uas = float(input(\"Masukkan nilai UAS: \"))\n",
        "\n",
        "# Input standar kelulusan\n",
        "standar_kelulusan = float(input(\"Masukkan standar kelulusan: \"))\n",
        "\n",
        "# Hitung nilai akhir (misalnya: 20% tugas1, 20% tugas2, 10% tugas3, 20% UTS, 30% UAS)\n",
        "nilai_mahasiswa = (0.2 * tugas1) + (0.2 * tugas2) + (0.1 * tugas3) + (0.2 * uts) + (0.3 * uas)\n",
        "\n",
        "# Logika kelulusan\n",
        "apakah_lulus = nilai_mahasiswa >= standar_kelulusan\n",
        "perlu_remedial = nilai_mahasiswa < standar_kelulusan\n",
        "\n",
        "# Output\n",
        "print(f\"Nilai Akhir Mahasiswa: {nilai_mahasiswa}\")\n",
        "print(f\"Standar Kelulusan: {standar_kelulusan}\")\n",
        "print(f\"Apakah Mahasiswa Lulus? {apakah_lulus}\")\n",
        "print(f\"Perlu Remedial? {perlu_remedial}\")\n"
      ],
      "metadata": {
        "colab": {
          "base_uri": "https://localhost:8080/"
        },
        "id": "vL25s6IujGad",
        "outputId": "d23f7189-bda8-4169-c99d-c20c3c04d0de"
      },
      "execution_count": 21,
      "outputs": [
        {
          "output_type": "stream",
          "name": "stdout",
          "text": [
            "Masukkan nilai Tugas 1: 90\n",
            "Masukkan nilai Tugas 2: 95\n",
            "Masukkan nilai Tugas 3: 88\n",
            "Masukkan nilai UTS: 93\n",
            "Masukkan nilai UAS: 85\n",
            "Masukkan standar kelulusan: 80\n",
            "Nilai Akhir Mahasiswa: 89.9\n",
            "Standar Kelulusan: 80.0\n",
            "Apakah Mahasiswa Lulus? True\n",
            "Perlu Remedial? False\n"
          ]
        }
      ]
    },
    {
      "cell_type": "code",
      "source": [
        "# Input belanja via keyboard\n",
        "belanja = int(input(\"Masukkan total belanja: \"))\n",
        "\n",
        "# Hitung diskon tanpa if, pakai indexing boolean\n",
        "diskon = (0.35 * belanja) * (belanja > 1000000) + (0.10 * belanja) * (500000 < belanja <= 1000000)\n",
        "\n",
        "# Hitung total harga setelah diskon\n",
        "total_harga = belanja - diskon\n",
        "\n",
        "# Output\n",
        "print(\"Total belanja =\", belanja)\n",
        "print(\"Diskon =\", diskon)\n",
        "print(\"Total harga setelah diskon =\", total_harga)\n"
      ],
      "metadata": {
        "colab": {
          "base_uri": "https://localhost:8080/"
        },
        "id": "_e1rkah-nEdJ",
        "outputId": "14138a4f-03bf-46a5-cb52-b24ecb07b1c3"
      },
      "execution_count": 23,
      "outputs": [
        {
          "output_type": "stream",
          "name": "stdout",
          "text": [
            "Masukkan total belanja: 850000\n",
            "Total belanja = 850000\n",
            "Diskon = 85000.0\n",
            "Total harga setelah diskon = 765000.0\n"
          ]
        }
      ]
    }
  ]
}