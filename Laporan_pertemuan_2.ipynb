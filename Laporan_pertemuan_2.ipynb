{
  "nbformat": 4,
  "nbformat_minor": 0,
  "metadata": {
    "colab": {
      "provenance": [],
      "authorship_tag": "ABX9TyNSTuEJMxpMPAFHgmK+wwq9",
      "include_colab_link": true
    },
    "kernelspec": {
      "name": "python3",
      "display_name": "Python 3"
    },
    "language_info": {
      "name": "python"
    }
  },
  "cells": [
    {
      "cell_type": "markdown",
      "metadata": {
        "id": "view-in-github",
        "colab_type": "text"
      },
      "source": [
        "<a href=\"https://colab.research.google.com/github/Fauzi4232401023/Pemograman-Dasar/blob/main/Laporan_pertemuan_2.ipynb\" target=\"_parent\"><img src=\"https://colab.research.google.com/assets/colab-badge.svg\" alt=\"Open In Colab\"/></a>"
      ]
    },
    {
      "cell_type": "code",
      "source": [
        "numbers = [23, 43, 15, 34]\n",
        "numbers[0] # 23\n",
        "numbers[1] # 43\n",
        "numbers[2] # 15\n",
        "numbers[3] # 34\n",
        "\n",
        "\n",
        "numbers[2] = 51\n",
        "numbers[2] = 51\n",
        "\n",
        "print (numbers[0])\n",
        "print (numbers[1])\n",
        "print (numbers[2])\n",
        "print (numbers[3])"
      ],
      "metadata": {
        "colab": {
          "base_uri": "https://localhost:8080/"
        },
        "id": "o9QrhkxIvYrX",
        "outputId": "15ad6816-b53b-45e1-e3a7-d22b792f6bdb"
      },
      "execution_count": null,
      "outputs": [
        {
          "output_type": "stream",
          "name": "stdout",
          "text": [
            "23\n",
            "43\n",
            "51\n",
            "34\n"
          ]
        }
      ]
    },
    {
      "cell_type": "code",
      "source": [
        "#deklarasi variabel list numbers\n",
        "numbers = [1, 2, 3]\n",
        "#menambahkan elemen di indeks ke-4\n",
        "numbers.insert(4,5) #[1, 2, 3, 5]\n",
        "#mengubah elemen di indeks ke-4\n",
        "numbers[3] = 4 #[1, 2, 3, 4]\n",
        "#menghapus elemen di indeks ke-2\n",
        "numbers.pop(2) #[1, 2, 4]\n",
        "print (numbers)"
      ],
      "metadata": {
        "colab": {
          "base_uri": "https://localhost:8080/"
        },
        "id": "y0qIecIVyv6-",
        "outputId": "0d2af97d-a3f2-4dfe-c178-73dff256b986"
      },
      "execution_count": null,
      "outputs": [
        {
          "output_type": "stream",
          "name": "stdout",
          "text": [
            "[1, 2, 4]\n"
          ]
        }
      ]
    },
    {
      "cell_type": "code",
      "source": [
        "#deklarasi variabel list numbers\n",
        "numbers = [1, 2, 3]\n",
        "#menambahkan elemen di indeks ke-4\n",
        "numbers.insert(4,5) #[1, 2, 3, 5]\n",
        "#mengubah elemen di indeks ke-4\n",
        "numbers[3] = 4 #[1, 2, 3, 4]\n",
        "#menghapus elemen di indeks ke-2\n",
        "numbers.pop(2) #[1, 2, 4]\n",
        "print (numbers)"
      ],
      "metadata": {
        "id": "JjmwH8934HNO",
        "colab": {
          "base_uri": "https://localhost:8080/"
        },
        "outputId": "abcf0f1b-38a7-4e61-a37e-3282c7ed79be"
      },
      "execution_count": 2,
      "outputs": [
        {
          "output_type": "stream",
          "name": "stdout",
          "text": [
            "[1, 2, 4]\n"
          ]
        }
      ]
    },
    {
      "cell_type": "code",
      "source": [
        "# deklarasi variabel list\n",
        "myList = [1, \"Rumah\", 4.5, True, [\"Kamar mandi\", \"Kamar tidur\"]]\n",
        "\n",
        "# mengakses elemen dalam variabel list\n",
        "myList[0]     # 1\n",
        "myList[1]     # Rumah\n",
        "myList[3]     # True\n",
        "myList[4]     # [\"Kamar mandi\", \"Kamar tidur\"]\n",
        "\n",
        "# mengakses elemen dalam sublist\n",
        "myList[4][0]  # \"Kamar mandi\"\n",
        "myList[4][1]  # \"Kamar tidur\"\n"
      ],
      "metadata": {
        "colab": {
          "base_uri": "https://localhost:8080/",
          "height": 35
        },
        "id": "FtIlbavNBD3O",
        "outputId": "d8649a0a-4286-457d-f7a1-162e64f21a9a"
      },
      "execution_count": 8,
      "outputs": [
        {
          "output_type": "execute_result",
          "data": {
            "text/plain": [
              "'Kamar tidur'"
            ],
            "application/vnd.google.colaboratory.intrinsic+json": {
              "type": "string"
            }
          },
          "metadata": {},
          "execution_count": 8
        }
      ]
    },
    {
      "cell_type": "code",
      "source": [
        "x = [\"laptop\", \"monitor\", \"mouse\", \"mousepad\", \"keyboard\", \"webcam\", \"microphone\"]\n",
        "\n",
        "print(x[0:5:2])\n",
        "print(x[1:])\n",
        "print(x[:3])\n",
        "\n"
      ],
      "metadata": {
        "colab": {
          "base_uri": "https://localhost:8080/"
        },
        "id": "xnjED8XwFSTf",
        "outputId": "6a9155e5-cb3a-4bed-ddd4-9d4491fddbfa"
      },
      "execution_count": 10,
      "outputs": [
        {
          "output_type": "stream",
          "name": "stdout",
          "text": [
            "['laptop', 'mouse', 'keyboard']\n",
            "['monitor', 'mouse', 'mousepad', 'keyboard', 'webcam', 'microphone']\n",
            "['laptop', 'monitor', 'mouse']\n"
          ]
        }
      ]
    },
    {
      "cell_type": "code",
      "source": [
        "x = (1, \"Polibatam\", 1+3j)\n",
        "print(type(x))\n",
        "\n"
      ],
      "metadata": {
        "colab": {
          "base_uri": "https://localhost:8080/"
        },
        "id": "p8yhWkFTIqK1",
        "outputId": "bc0813fd-e486-4745-b34e-d3dbacb12089"
      },
      "execution_count": 12,
      "outputs": [
        {
          "output_type": "stream",
          "name": "stdout",
          "text": [
            "<class 'tuple'>\n"
          ]
        }
      ]
    },
    {
      "cell_type": "code",
      "source": [
        "x = (5, 'program', 1+3j)\n",
        "print(x[1])\n",
        "print(x[0:3])\n",
        "\n"
      ],
      "metadata": {
        "colab": {
          "base_uri": "https://localhost:8080/"
        },
        "id": "S8ZT5SNeIz8e",
        "outputId": "140e6489-9ccd-4922-8add-2cdbfdd7be1a"
      },
      "execution_count": 13,
      "outputs": [
        {
          "output_type": "stream",
          "name": "stdout",
          "text": [
            "program\n",
            "(5, 'program', (1+3j))\n"
          ]
        }
      ]
    },
    {
      "cell_type": "code",
      "source": [
        "x = (5, 'program', 1+3j)\n",
        "x[1] = 'Polibatam'\n",
        "\n"
      ],
      "metadata": {
        "colab": {
          "base_uri": "https://localhost:8080/",
          "height": 176
        },
        "id": "Bb0aQAfTJ1Yy",
        "outputId": "b9118b25-e62f-4e20-b994-2d01ab4f31f1"
      },
      "execution_count": 16,
      "outputs": [
        {
          "output_type": "error",
          "ename": "TypeError",
          "evalue": "'tuple' object does not support item assignment",
          "traceback": [
            "\u001b[0;31m---------------------------------------------------------------------------\u001b[0m",
            "\u001b[0;31mTypeError\u001b[0m                                 Traceback (most recent call last)",
            "\u001b[0;32m/tmp/ipython-input-362284308.py\u001b[0m in \u001b[0;36m<cell line: 0>\u001b[0;34m()\u001b[0m\n\u001b[1;32m      1\u001b[0m \u001b[0mx\u001b[0m \u001b[0;34m=\u001b[0m \u001b[0;34m(\u001b[0m\u001b[0;36m5\u001b[0m\u001b[0;34m,\u001b[0m \u001b[0;34m'program'\u001b[0m\u001b[0;34m,\u001b[0m \u001b[0;36m1\u001b[0m\u001b[0;34m+\u001b[0m\u001b[0;36m3j\u001b[0m\u001b[0;34m)\u001b[0m\u001b[0;34m\u001b[0m\u001b[0;34m\u001b[0m\u001b[0m\n\u001b[0;32m----> 2\u001b[0;31m \u001b[0mx\u001b[0m\u001b[0;34m[\u001b[0m\u001b[0;36m1\u001b[0m\u001b[0;34m]\u001b[0m \u001b[0;34m=\u001b[0m \u001b[0;34m'Polibatam'\u001b[0m\u001b[0;34m\u001b[0m\u001b[0;34m\u001b[0m\u001b[0m\n\u001b[0m\u001b[1;32m      3\u001b[0m \u001b[0;34m\u001b[0m\u001b[0m\n",
            "\u001b[0;31mTypeError\u001b[0m: 'tuple' object does not support item assignment"
          ]
        }
      ]
    },
    {
      "cell_type": "code",
      "source": [
        "# deklarasi variabel tuple\n",
        "numbers = (23, 43, 15, 34)\n",
        "\n",
        "# cara mengakses elemen dalam variabel tuple\n",
        "numbers[0]    # 23\n",
        "numbers[1]    # 43\n",
        "numbers[2]    # 15\n",
        "# lakukan print lalu amati hasilnya\n"
      ],
      "metadata": {
        "colab": {
          "base_uri": "https://localhost:8080/"
        },
        "id": "mztn37FOJ4nR",
        "outputId": "c207ad20-0a1a-4a6b-bef2-81c9a9e7c9df"
      },
      "execution_count": 14,
      "outputs": [
        {
          "output_type": "execute_result",
          "data": {
            "text/plain": [
              "15"
            ]
          },
          "metadata": {},
          "execution_count": 14
        }
      ]
    },
    {
      "cell_type": "code",
      "source": [
        "# deklarasi variabel set a dan b\n",
        "a = {1, 2, 3}\n",
        "b = {2, 3, 4}\n",
        "\n",
        "# operasi gabungan\n",
        "a.union(b)        # {1, 2, 3, 4}\n",
        "\n",
        "# operasi irisan\n",
        "a.intersection(b) # {2, 3}\n",
        "\n",
        "# operasi perbedaan\n",
        "a.symmetric_difference(b)   # {1, 4}\n",
        "\n",
        "#lakukan print dan lihat hasilnya\n"
      ],
      "metadata": {
        "colab": {
          "base_uri": "https://localhost:8080/"
        },
        "id": "lcBNQjy9LObI",
        "outputId": "fa14cba4-cae2-41b1-e210-51c9ad1ed4e9"
      },
      "execution_count": 17,
      "outputs": [
        {
          "output_type": "execute_result",
          "data": {
            "text/plain": [
              "{1, 4}"
            ]
          },
          "metadata": {},
          "execution_count": 17
        }
      ]
    },
    {
      "cell_type": "code",
      "source": [
        "x = { 'name': 'Perseus Evans', 'age': 20, 'isMarried': False }\n",
        "\n",
        "print(type(x))\n",
        "\n",
        "\n"
      ],
      "metadata": {
        "colab": {
          "base_uri": "https://localhost:8080/"
        },
        "id": "8wUMmc2zMDK-",
        "outputId": "74a7a31b-06be-4500-e43f-1d04512ce5e7"
      },
      "execution_count": 18,
      "outputs": [
        {
          "output_type": "stream",
          "name": "stdout",
          "text": [
            "<class 'dict'>\n"
          ]
        }
      ]
    },
    {
      "cell_type": "code",
      "source": [
        "x = { 'name': 'Perseus Evans', 'age': 20, 'isMarried': False }\n",
        "\n",
        "print(x[0])\n",
        "\n",
        "\n"
      ],
      "metadata": {
        "colab": {
          "base_uri": "https://localhost:8080/",
          "height": 211
        },
        "id": "r8awxycDMFX-",
        "outputId": "3baf5ce9-665e-45ad-d2d4-ff2820150fb7"
      },
      "execution_count": 19,
      "outputs": [
        {
          "output_type": "error",
          "ename": "KeyError",
          "evalue": "0",
          "traceback": [
            "\u001b[0;31m---------------------------------------------------------------------------\u001b[0m",
            "\u001b[0;31mKeyError\u001b[0m                                  Traceback (most recent call last)",
            "\u001b[0;32m/tmp/ipython-input-3475179264.py\u001b[0m in \u001b[0;36m<cell line: 0>\u001b[0;34m()\u001b[0m\n\u001b[1;32m      1\u001b[0m \u001b[0mx\u001b[0m \u001b[0;34m=\u001b[0m \u001b[0;34m{\u001b[0m \u001b[0;34m'name'\u001b[0m\u001b[0;34m:\u001b[0m \u001b[0;34m'Perseus Evans'\u001b[0m\u001b[0;34m,\u001b[0m \u001b[0;34m'age'\u001b[0m\u001b[0;34m:\u001b[0m \u001b[0;36m20\u001b[0m\u001b[0;34m,\u001b[0m \u001b[0;34m'isMarried'\u001b[0m\u001b[0;34m:\u001b[0m \u001b[0;32mFalse\u001b[0m \u001b[0;34m}\u001b[0m\u001b[0;34m\u001b[0m\u001b[0;34m\u001b[0m\u001b[0m\n\u001b[1;32m      2\u001b[0m \u001b[0;34m\u001b[0m\u001b[0m\n\u001b[0;32m----> 3\u001b[0;31m \u001b[0mprint\u001b[0m\u001b[0;34m(\u001b[0m\u001b[0mx\u001b[0m\u001b[0;34m[\u001b[0m\u001b[0;36m0\u001b[0m\u001b[0;34m]\u001b[0m\u001b[0;34m)\u001b[0m\u001b[0;34m\u001b[0m\u001b[0;34m\u001b[0m\u001b[0m\n\u001b[0m\u001b[1;32m      4\u001b[0m \u001b[0;34m\u001b[0m\u001b[0m\n\u001b[1;32m      5\u001b[0m \u001b[0;34m\u001b[0m\u001b[0m\n",
            "\u001b[0;31mKeyError\u001b[0m: 0"
          ]
        }
      ]
    },
    {
      "cell_type": "code",
      "source": [
        "x = { 'name': 'Perseus Evans', 'age': 20, 'isMarried': False }\n",
        "\n",
        "print(x ['name'])\n",
        "\n"
      ],
      "metadata": {
        "colab": {
          "base_uri": "https://localhost:8080/"
        },
        "id": "LkWdzPAxMHyA",
        "outputId": "6293ca48-d98d-4195-b806-a78375103e6c"
      },
      "execution_count": 20,
      "outputs": [
        {
          "output_type": "stream",
          "name": "stdout",
          "text": [
            "Perseus Evans\n"
          ]
        }
      ]
    },
    {
      "cell_type": "code",
      "source": [
        "x = { 'name': 'Perseus Evans', 'age': 20, 'isMarried': False }\n",
        "x['Job'] = \"Web Developer\"\n",
        "\n",
        "print(x)\n"
      ],
      "metadata": {
        "colab": {
          "base_uri": "https://localhost:8080/"
        },
        "id": "zCXNp4bbOP_H",
        "outputId": "5a383deb-4edc-44e3-82dd-f33240c02671"
      },
      "execution_count": 21,
      "outputs": [
        {
          "output_type": "stream",
          "name": "stdout",
          "text": [
            "{'name': 'Perseus Evans', 'age': 20, 'isMarried': False, 'Job': 'Web Developer'}\n"
          ]
        }
      ]
    },
    {
      "cell_type": "code",
      "source": [
        "x = { 'name': 'Perseus Evans', 'age': 20, 'isMarried': False }\n",
        "del x['isMarried']\n",
        "\n",
        "print(x)\n",
        "\n",
        "\n"
      ],
      "metadata": {
        "colab": {
          "base_uri": "https://localhost:8080/"
        },
        "id": "U9VzBhFiPOdN",
        "outputId": "9ed6ec4c-8ddb-4fda-ac30-43b18adde2d9"
      },
      "execution_count": 23,
      "outputs": [
        {
          "output_type": "stream",
          "name": "stdout",
          "text": [
            "{'name': 'Perseus Evans', 'age': 20}\n"
          ]
        }
      ]
    },
    {
      "cell_type": "code",
      "source": [
        "x = { 'name': 'Perseus Evans', 'age': 20, 'isMarried': False }\n",
        "x['name'] = \"Exvan\"\n",
        "\n",
        "print(x)\n",
        "\n",
        "\n"
      ],
      "metadata": {
        "colab": {
          "base_uri": "https://localhost:8080/"
        },
        "id": "tQ4H3Kk-QepJ",
        "outputId": "3ce7dbfc-df6d-4c7d-9bfa-2cbd61e6ea21"
      },
      "execution_count": 24,
      "outputs": [
        {
          "output_type": "stream",
          "name": "stdout",
          "text": [
            "{'name': 'Exvan', 'age': 20, 'isMarried': False}\n"
          ]
        }
      ]
    },
    {
      "cell_type": "code",
      "source": [
        "# deklarasi variabel dictionary\n",
        "propertyDetail = {\"numFloors\": 1, \"propertyType\": \"Rumah\", \"hasTerrace\": True, \"hasGarage\": False}\n",
        "\n",
        "# cara mengakses elemen dalam variabel dictionary\n",
        "propertyDetail[\"numFloors\"]      # 1\n",
        "propertyDetail[\"propertyType\"]   # Rumah\n",
        "propertyDetail[\"hasTerrace\"]     # True\n",
        "propertyDetail[\"hasGarage\"]      # False\n",
        "\n",
        "# cara mengubah nilai elemen dalam variabel dictionary\n",
        "propertyDetail[\"hasTerrace\"] = False\n",
        "\n",
        "propertyDetail[\"hasTerrace\"]     # False\n",
        "\n",
        "#print(propertyDetail[\"propertyType\"])\n",
        "\n",
        "#lakuan print lalu amati hasilnya\n"
      ],
      "metadata": {
        "colab": {
          "base_uri": "https://localhost:8080/"
        },
        "id": "jD_ZPnSFRloy",
        "outputId": "bc946ada-779b-4168-ef6e-9a0aa3bce10d"
      },
      "execution_count": 25,
      "outputs": [
        {
          "output_type": "execute_result",
          "data": {
            "text/plain": [
              "False"
            ]
          },
          "metadata": {},
          "execution_count": 25
        }
      ]
    }
  ]
}