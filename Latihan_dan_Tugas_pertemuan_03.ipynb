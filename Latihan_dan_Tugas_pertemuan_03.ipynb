{
  "nbformat": 4,
  "nbformat_minor": 0,
  "metadata": {
    "colab": {
      "provenance": [],
      "authorship_tag": "ABX9TyPYQBKuZ7OK1I5cksZefP1U",
      "include_colab_link": true
    },
    "kernelspec": {
      "name": "python3",
      "display_name": "Python 3"
    },
    "language_info": {
      "name": "python"
    }
  },
  "cells": [
    {
      "cell_type": "markdown",
      "metadata": {
        "id": "view-in-github",
        "colab_type": "text"
      },
      "source": [
        "<a href=\"https://colab.research.google.com/github/Fauzi4232401023/Pemograman-Dasar/blob/main/Latihan_dan_Tugas_pertemuan_03.ipynb\" target=\"_parent\"><img src=\"https://colab.research.google.com/assets/colab-badge.svg\" alt=\"Open In Colab\"/></a>"
      ]
    },
    {
      "cell_type": "code",
      "execution_count": 1,
      "metadata": {
        "colab": {
          "base_uri": "https://localhost:8080/"
        },
        "id": "aImyjU0rqd0C",
        "outputId": "75172645-a919-4a78-850c-7e70422ed726"
      },
      "outputs": [
        {
          "output_type": "stream",
          "name": "stdout",
          "text": [
            "Masukkan tahun: 2025\n",
            "Apakah tahun 2025 kabisat? False\n"
          ]
        }
      ],
      "source": [
        "# Input dari keyboard\n",
        "tahun = int(input(\"Masukkan tahun: \"))\n",
        "\n",
        "# Ekspresi logika kabisat\n",
        "kabisat = (tahun % 4 == 0 and tahun % 100 != 0) or (tahun % 400 == 0)\n",
        "\n",
        "# Output hasil\n",
        "print(\"Apakah tahun\", tahun, \"kabisat?\", kabisat)\n"
      ]
    },
    {
      "cell_type": "code",
      "source": [
        "# Program kalkulator sederhana\n",
        "\n",
        "# Input nilai\n",
        "a = int(input(\"Masukkan angka pertama: \"))\n",
        "b = int(input(\"Masukkan angka kedua: \"))\n",
        "\n",
        "# Operasi aritmatika\n",
        "penjumlahan = a + b\n",
        "pengurangan = a - b\n",
        "perkalian = a * b\n",
        "pembagian = a / b\n",
        "\n",
        "# Output hasil\n",
        "print(\"Hasil penjumlahan =\", penjumlahan)\n",
        "print(\"Hasil pengurangan =\", pengurangan)\n",
        "print(\"Hasil perkalian =\", perkalian)\n",
        "print(\"Hasil pembagian =\", pembagian)\n"
      ],
      "metadata": {
        "colab": {
          "base_uri": "https://localhost:8080/"
        },
        "id": "653si24YvqSM",
        "outputId": "5bf2883d-9df4-4b15-f662-505b3084a5b6"
      },
      "execution_count": 3,
      "outputs": [
        {
          "output_type": "stream",
          "name": "stdout",
          "text": [
            "Masukkan angka pertama: 1240\n",
            "Masukkan angka kedua: 485\n",
            "Hasil penjumlahan = 1725\n",
            "Hasil pengurangan = 755\n",
            "Hasil perkalian = 601400\n",
            "Hasil pembagian = 2.556701030927835\n"
          ]
        }
      ]
    },
    {
      "cell_type": "code",
      "source": [
        "# Program Kasir Sederhana\n",
        "\n",
        "# Input: total harga belanja dan status member\n",
        "subtotal = int(input(\"Masukkan total belanja: Rp \"))\n",
        "member = input(\"Apakah Anda member? (ya/tidak): \").lower()\n",
        "\n",
        "# 1. Logika syarat diskon (True jika member dan subtotal > 100000, else False → 0)\n",
        "berhak_diskon = (member == \"ya\") and (subtotal > 100000)\n",
        "\n",
        "# 2. Hitung jumlah diskon (langsung menggunakan ekspresi logika)\n",
        "diskon = subtotal * 0.15 * berhak_diskon\n",
        "\n",
        "# 3. Harga setelah diskon\n",
        "harga_setelah_diskon = subtotal - diskon\n",
        "\n",
        "# 4. Hitung PPN 11%\n",
        "ppn = harga_setelah_diskon * 0.11\n",
        "\n",
        "# 5. Total akhir\n",
        "total_akhir = harga_setelah_diskon + ppn\n",
        "\n",
        "# Output\n",
        "print(\"\\n--- Struk Belanja ---\")\n",
        "print(\"Subtotal            : Rp\", subtotal)\n",
        "print(\"Diskon              : Rp\", int(diskon))\n",
        "print(\"Harga setelah diskon: Rp\", int(harga_setelah_diskon))\n",
        "print(\"PPN (11%)           : Rp\", int(ppn))\n",
        "print(\"Total yang harus dibayar: Rp\", int(total_akhir))\n",
        "\n"
      ],
      "metadata": {
        "colab": {
          "base_uri": "https://localhost:8080/"
        },
        "id": "5W71DpsVyycC",
        "outputId": "75aecfbc-0b8d-42e1-abed-98c2b8285e7d"
      },
      "execution_count": 7,
      "outputs": [
        {
          "output_type": "stream",
          "name": "stdout",
          "text": [
            "Masukkan total belanja: Rp 170000\n",
            "Apakah Anda member? (ya/tidak): ya\n",
            "\n",
            "--- Struk Belanja ---\n",
            "Subtotal            : Rp 170000\n",
            "Diskon              : Rp 25500\n",
            "Harga setelah diskon: Rp 144500\n",
            "PPN (11%)           : Rp 15895\n",
            "Total yang harus dibayar: Rp 160395\n"
          ]
        }
      ]
    }
  ]
}