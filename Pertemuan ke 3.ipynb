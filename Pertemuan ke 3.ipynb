{
  "nbformat": 4,
  "nbformat_minor": 0,
  "metadata": {
    "colab": {
      "provenance": [],
      "authorship_tag": "ABX9TyOJrhaP4bYjDVx0O++RR/RL",
      "include_colab_link": true
    },
    "kernelspec": {
      "name": "python3",
      "display_name": "Python 3"
    },
    "language_info": {
      "name": "python"
    }
  },
  "cells": [
    {
      "cell_type": "markdown",
      "metadata": {
        "id": "view-in-github",
        "colab_type": "text"
      },
      "source": [
        "<a href=\"https://colab.research.google.com/github/Fauzi4232401023/Pemograman-Dasar/blob/main/Pertemuan%20ke%203.ipynb\" target=\"_parent\"><img src=\"https://colab.research.google.com/assets/colab-badge.svg\" alt=\"Open In Colab\"/></a>"
      ]
    },
    {
      "cell_type": "code",
      "execution_count": 13,
      "metadata": {
        "colab": {
          "base_uri": "https://localhost:8080/"
        },
        "id": "FOJPkELSfxM0",
        "outputId": "e35f364a-1666-4814-cb70-292249d5f83a"
      },
      "outputs": [
        {
          "output_type": "stream",
          "name": "stdout",
          "text": [
            "berapa banyak buah yang dibeli oleh orang itu? : 15.12\n",
            "siapa nama orang yang membeli buah itu? : wahyu\n",
            "berapa banyak buah yang dibeli oleh orang itu? : 15.12\n",
            "siapa nama orang yang membeli buah itu? :  wahyu\n"
          ]
        }
      ],
      "source": [
        "total = float (input (\"berapa banyak buah yang dibeli oleh orang itu? : \"))\n",
        "nama = str (input(\"siapa nama orang yang membeli buah itu? : \"))\n",
        "\n",
        "print(\"berapa banyak buah yang dibeli oleh orang itu? :\" , total)\n",
        "print(\"siapa nama orang yang membeli buah itu? : \" , nama)"
      ]
    },
    {
      "cell_type": "code",
      "source": [
        "buah = :\"Mangga\"\n",
        "jumlah = \"1 kg\"\n",
        "harganya = 25"
      ],
      "metadata": {
        "id": "vF_eig3_yg5a"
      },
      "execution_count": null,
      "outputs": []
    }
  ]
}