{
  "nbformat": 4,
  "nbformat_minor": 0,
  "metadata": {
    "colab": {
      "provenance": [],
      "authorship_tag": "ABX9TyNWeWAx16NNT2T48L6P8gwG",
      "include_colab_link": true
    },
    "kernelspec": {
      "name": "python3",
      "display_name": "Python 3"
    },
    "language_info": {
      "name": "python"
    }
  },
  "cells": [
    {
      "cell_type": "markdown",
      "metadata": {
        "id": "view-in-github",
        "colab_type": "text"
      },
      "source": [
        "<a href=\"https://colab.research.google.com/github/Fauzi4232401023/Pemograman-Dasar/blob/main/Praktikum_Pertemuan_Ke_4.ipynb\" target=\"_parent\"><img src=\"https://colab.research.google.com/assets/colab-badge.svg\" alt=\"Open In Colab\"/></a>"
      ]
    },
    {
      "cell_type": "code",
      "execution_count": 10,
      "metadata": {
        "colab": {
          "base_uri": "https://localhost:8080/"
        },
        "id": "PCksihl0yC4F",
        "outputId": "c1c2789e-ef4d-4c16-b688-f8cba0d3e6f1"
      },
      "outputs": [
        {
          "output_type": "stream",
          "name": "stdout",
          "text": [
            "Pengunjung adalah orang dewasa.\n"
          ]
        }
      ],
      "source": [
        "# Variabel untuk menyimpan umur pengunjung\n",
        "umur: int = 20\n",
        "\n",
        "# Program hanya akan mencetak pesan jika umur di atas 17\n",
        "if umur > 17:\n",
        "    print(\"Pengunjung adalah orang dewasa.\")\n"
      ]
    },
    {
      "cell_type": "code",
      "source": [
        "username = input(\"Masukkan username: \")\n",
        "password = input(\"Masukkan password: \")\n",
        "\n",
        "if username == \"admin\" and password == \"1234\":\n",
        "    print(\"Login berhasil\")\n",
        "else:\n",
        "    print(\"Login gagal\")\n"
      ],
      "metadata": {
        "colab": {
          "base_uri": "https://localhost:8080/"
        },
        "id": "UBFabJ8G4ooM",
        "outputId": "23772d7c-9874-43ca-d896-4955a91d45b0"
      },
      "execution_count": 11,
      "outputs": [
        {
          "output_type": "stream",
          "name": "stdout",
          "text": [
            "Masukkan username: 12312412\n",
            "Masukkan password: admin\n",
            "Login gagal\n"
          ]
        }
      ]
    },
    {
      "cell_type": "code",
      "source": [
        "# program untuk mengecek bonus dan diskon\n",
        "total_belanja = input(\"Total belanja: Rp \")\n",
        "# jumlah yang harus dibayar adalah berapa total belanjaannya\n",
        "# tapi kalau dapat diskon akan berkurang\n",
        "bayar = int(total_belanja)\n",
        "# jika dia belanja di atas 100rb maka berikan bonus dan diskon\n",
        "if int(total_belanja) > 100000:\n",
        "    print(\"Selamat Karena Belanja > Rp. 100.000 anda mendapat Voucher Makan 🍜\")\n",
        "    print(\"dan diskon 5%\")\n",
        "    # hitung diskonnya\n",
        "    diskon = int(total_belanja) * 5/100 #5%\n",
        "    bayar = int(total_belanja) - diskon\n",
        "# cetak struk\n",
        "print(\"Total yang harus dibayar: Rp %s\" % bayar)\n",
        "print(\"Terima kasih sudah berbelanja di Toko Kami\")\n",
        "print(\"Kami Tunggu kunjungan anda selanjutnya.\")\n"
      ],
      "metadata": {
        "colab": {
          "base_uri": "https://localhost:8080/"
        },
        "id": "lRnhE7c74rom",
        "outputId": "6d6da750-8425-4d38-97f0-071f87ccf387"
      },
      "execution_count": 13,
      "outputs": [
        {
          "output_type": "stream",
          "name": "stdout",
          "text": [
            "Total belanja: Rp 750000\n",
            "Selamat Karena Belanja > Rp. 100.000 anda mendapat Voucher Makan 🍜\n",
            "dan diskon 5%\n",
            "Total yang harus dibayar: Rp 712500.0\n",
            "Terima kasih sudah berbelanja di Toko Kami\n",
            "Kami Tunggu kunjungan anda selanjutnya.\n"
          ]
        }
      ]
    },
    {
      "cell_type": "code",
      "source": [
        "# Variabel untuk memeriksa apakah ada notifikasi baru\n",
        "ada_notifikasi_baru: bool = False\n",
        "\n",
        "if ada_notifikasi_baru:\n",
        "    print(\"Anda memiliki pesan baru!\")\n"
      ],
      "metadata": {
        "id": "sxKx664g4uXp"
      },
      "execution_count": 16,
      "outputs": []
    },
    {
      "cell_type": "code",
      "source": [
        "umur = input(\"Berapa umur kamu: \")\n",
        "if int(umur) >= 18:\n",
        "    print(\"Kamu boleh membuat SIM\")\n",
        "else:\n",
        "    print(\"Kamu belum boleh membuat SIM\")\n"
      ],
      "metadata": {
        "colab": {
          "base_uri": "https://localhost:8080/"
        },
        "id": "t5mXZ58vBdPB",
        "outputId": "2acd4ef8-1233-49ce-815a-9fef527f81f9"
      },
      "execution_count": 23,
      "outputs": [
        {
          "output_type": "stream",
          "name": "stdout",
          "text": [
            "Berapa umur kamu: 17\n",
            "Kamu belum boleh membuat SIM\n"
          ]
        }
      ]
    },
    {
      "cell_type": "code",
      "source": [
        "total_belanja = 15000  # asumsikan total belanja di atas 20rb\n",
        "\n",
        "if total_belanja > 200000:\n",
        "    diskon = total_belanja * 0.10\n",
        "    total_bayar = total_belanja - diskon\n",
        "    print(f\"Anda mendapat diskon! Total bayar: Rp {total_bayar}\")\n",
        "else:\n",
        "    print(f\"Total bayar: Rp {total_belanja}\")\n",
        "\n",
        "\n"
      ],
      "metadata": {
        "colab": {
          "base_uri": "https://localhost:8080/"
        },
        "id": "fFpmZp8WBh8q",
        "outputId": "d7233e8e-d059-4cf1-a2c0-bf55cc2facb5"
      },
      "execution_count": 25,
      "outputs": [
        {
          "output_type": "stream",
          "name": "stdout",
          "text": [
            "Total bayar: Rp 15000\n"
          ]
        }
      ]
    },
    {
      "cell_type": "code",
      "source": [
        "angka = int(input(\"Masukkan bilangan: \"))\n",
        "\n",
        "if angka % 2 == 0:\n",
        "    print(\"Bilangan Genap\")\n",
        "else:\n",
        "    print(\"Bilangan Ganjil\")\n"
      ],
      "metadata": {
        "colab": {
          "base_uri": "https://localhost:8080/"
        },
        "id": "pZf7qlIYBkRF",
        "outputId": "1b5f834f-f7ee-451f-c7b8-1bc43514ca53"
      },
      "execution_count": 19,
      "outputs": [
        {
          "output_type": "stream",
          "name": "stdout",
          "text": [
            "Masukkan bilangan: 3\n",
            "Bilangan Ganjil\n"
          ]
        }
      ]
    },
    {
      "cell_type": "code",
      "source": [
        "nilai = 80\n",
        "if nilai >= 85:\n",
        "    print(\"Luar biasa! Nilai A\")\n",
        "elif nilai >= 70:\n",
        "    print(\"Bagus! Nilai B\")\n",
        "elif nilai >= 60:\n",
        "    print(\"Cukup. Nilai C\")\n",
        "else:\n",
        "    print(\"Nilai kurang, perlu belajar lebih giat.\")\n"
      ],
      "metadata": {
        "colab": {
          "base_uri": "https://localhost:8080/"
        },
        "id": "xT2bRGuNEiFD",
        "outputId": "9935ec0c-8e21-4041-c468-87faf0ecd4d2"
      },
      "execution_count": 26,
      "outputs": [
        {
          "output_type": "stream",
          "name": "stdout",
          "text": [
            "Bagus! Nilai B\n"
          ]
        }
      ]
    },
    {
      "cell_type": "code",
      "source": [
        "# Menentukan jenis diskon berdasarkan hari\n",
        "hari: str = \"Sabtu\"\n",
        "\n",
        "if hari == \"Sabtu\" or hari == \"Minggu\":\n",
        "    diskon: float = 0.20  # Diskon 20%\n",
        "    print(f\"Selamat! Anda mendapat diskon akhir pekan sebesar {diskon*100}%.\")\n",
        "elif hari == \"Jumat\":\n",
        "    diskon: float = 0.15  # Diskon 15%\n",
        "    print(f\"Diskon spesial Jumat! Anda mendapat potongan {diskon*100}%.\")\n",
        "else:\n",
        "    diskon: float = 0.05  # Diskon 5%\n",
        "    print(f\"Anda mendapat diskon hari biasa sebesar {diskon*100}%.\")\n"
      ],
      "metadata": {
        "colab": {
          "base_uri": "https://localhost:8080/"
        },
        "id": "kXVrxivjEleh",
        "outputId": "713e29e0-d099-4d13-9189-188f1bbcb0a9"
      },
      "execution_count": 28,
      "outputs": [
        {
          "output_type": "stream",
          "name": "stdout",
          "text": [
            "Selamat! Anda mendapat diskon akhir pekan sebesar 20.0%.\n"
          ]
        }
      ]
    },
    {
      "cell_type": "code",
      "source": [
        "rupiah = int(input(\"Masukkan jumlah uang (Rp): \"))\n",
        "print(\"1. Dollar (USD)\")\n",
        "print(\"2. Euro (EUR)\")\n",
        "print(\"3. Yen (JPY)\")\n",
        "pilih = int(input(\"Pilih konversi (1/2/3): \"))\n",
        "\n",
        "if pilih == 1:\n",
        "    print(\"Dalam Dollar:\", rupiah / 15000)\n",
        "elif pilih == 2:\n",
        "    print(\"Dalam Euro:\", rupiah / 16000)\n",
        "elif pilih == 3:\n",
        "    print(\"Dalam Yen:\", rupiah / 120)\n",
        "else:\n",
        "    print(\"Pilihan tidak valid\")\n"
      ],
      "metadata": {
        "colab": {
          "base_uri": "https://localhost:8080/"
        },
        "id": "_HFiB-yiEnhy",
        "outputId": "7d5a7589-964e-44b6-d735-466493d9b0d5"
      },
      "execution_count": 27,
      "outputs": [
        {
          "output_type": "stream",
          "name": "stdout",
          "text": [
            "Masukkan jumlah uang (Rp): 50000\n",
            "1. Dollar (USD)\n",
            "2. Euro (EUR)\n",
            "3. Yen (JPY)\n",
            "Pilih konversi (1/2/3): 1\n",
            "Dalam Dollar: 3.3333333333333335\n"
          ]
        }
      ]
    }
  ]
}