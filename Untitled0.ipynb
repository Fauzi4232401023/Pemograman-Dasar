{
  "nbformat": 4,
  "nbformat_minor": 0,
  "metadata": {
    "colab": {
      "provenance": [],
      "authorship_tag": "ABX9TyMTeCErZKmiRXTdNRo5qOW8",
      "include_colab_link": true
    },
    "kernelspec": {
      "name": "python3",
      "display_name": "Python 3"
    },
    "language_info": {
      "name": "python"
    }
  },
  "cells": [
    {
      "cell_type": "markdown",
      "metadata": {
        "id": "view-in-github",
        "colab_type": "text"
      },
      "source": [
        "<a href=\"https://colab.research.google.com/github/Fauzi4232401023/Pemograman-Dasar/blob/main/Untitled0.ipynb\" target=\"_parent\"><img src=\"https://colab.research.google.com/assets/colab-badge.svg\" alt=\"Open In Colab\"/></a>"
      ]
    },
    {
      "cell_type": "code",
      "source": [
        "biodata = {\"nama\": \"Fauzi\",\"umur\": 19,\"jurusan\": \"RPE\",\"semester\": 3,\"mata_kuliah\": \"Pemrograman Dasar\",\"status_lulus\": False,\"daerah\": \"Batam\",\"nim\": 4232401023}\n",
        "\n",
        "print(\"Nama           :\", biodata[\"nama\"])\n",
        "print(\"Umur           :\", biodata[\"umur\"])\n",
        "print(\"Jurusan        :\", biodata[\"jurusan\"])\n",
        "print(\"Semester       :\", biodata[\"semester\"])\n",
        "print(\"Mata Kuliah    :\", biodata[\"mata_kuliah\"])\n",
        "print(\"Status Lulus   :\", biodata[\"status_lulus\"])\n",
        "print(\"Daerah         :\", biodata[\"daerah\"])\n",
        "print(\"NIM            :\", biodata[\"nim\"])\n"
      ],
      "metadata": {
        "colab": {
          "base_uri": "https://localhost:8080/"
        },
        "id": "6dJPorB6D6lO",
        "outputId": "5a60f653-5c94-447e-b481-76571b883c7e"
      },
      "execution_count": 22,
      "outputs": [
        {
          "output_type": "stream",
          "name": "stdout",
          "text": [
            "Nama           : Fauzi\n",
            "Umur           : 19\n",
            "Jurusan        : RPE\n",
            "Semester       : 3\n",
            "Mata Kuliah    : Pemrograman Dasar\n",
            "Status Lulus   : False\n",
            "Daerah         : Batam\n",
            "NIM            : 4232401023\n"
          ]
        }
      ]
    }
  ]
}