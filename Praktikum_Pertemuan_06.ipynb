{
  "nbformat": 4,
  "nbformat_minor": 0,
  "metadata": {
    "colab": {
      "provenance": [],
      "authorship_tag": "ABX9TyOvFF/xwgk6B1dgyF5wkGbj",
      "include_colab_link": true
    },
    "kernelspec": {
      "name": "python3",
      "display_name": "Python 3"
    },
    "language_info": {
      "name": "python"
    }
  },
  "cells": [
    {
      "cell_type": "markdown",
      "metadata": {
        "id": "view-in-github",
        "colab_type": "text"
      },
      "source": [
        "<a href=\"https://colab.research.google.com/github/Fauzi4232401023/Pemograman-Dasar/blob/main/Praktikum_Pertemuan_06.ipynb\" target=\"_parent\"><img src=\"https://colab.research.google.com/assets/colab-badge.svg\" alt=\"Open In Colab\"/></a>"
      ]
    },
    {
      "cell_type": "code",
      "execution_count": 1,
      "metadata": {
        "colab": {
          "base_uri": "https://localhost:8080/"
        },
        "id": "DrUYR3p9uRps",
        "outputId": "aa04f04e-19dd-4f6a-c363-f26dccc3baba"
      },
      "outputs": [
        {
          "output_type": "stream",
          "name": "stdout",
          "text": [
            "Halo, Andi!\n",
            "Halo, Budi!\n",
            "Halo, Citra!\n"
          ]
        }
      ],
      "source": [
        "def sapa(nama):\n",
        "    return f\"Halo, {nama}!\"\n",
        "\n",
        "# Menggunakan fungsi\n",
        "print(sapa(\"Andi\"))\n",
        "print(sapa(\"Budi\"))\n",
        "print(sapa(\"Citra\"))\n",
        "\n",
        "# Output:\n",
        "# Halo, Andi!\n",
        "# Halo, Budi!\n",
        "# Halo, Citra!\n"
      ]
    },
    {
      "cell_type": "code",
      "source": [
        "# Fungsi dengan beberapa parameter\n",
        "def hitung_total(harga, jumlah):\n",
        "    return harga * jumlah\n",
        "\n",
        "def hitung_diskon(total, persen_diskon):\n",
        "    return total * (persen_diskon / 100)\n",
        "\n",
        "# Penggunaan\n",
        "harga_barang = 7500\n",
        "jumlah_barang = 6\n",
        "total = hitung_total(harga_barang, jumlah_barang)\n",
        "diskon = hitung_diskon(total, 10)\n",
        "\n",
        "print(f\"Total: Rp{total}\")\n",
        "print(f\"Diskon: Rp{diskon}\")\n",
        "print(f\"Bayar: Rp{total - diskon}\")\n",
        "\n",
        "# Output:\n",
        "# Total: Rp45000\n",
        "# Diskon: Rp4500.0\n",
        "# Bayar: Rp40500.0\n"
      ],
      "metadata": {
        "colab": {
          "base_uri": "https://localhost:8080/"
        },
        "id": "q2o9vchC2XrS",
        "outputId": "390f1b26-a2e6-4d8b-c5d9-6eb2040dfb24"
      },
      "execution_count": 4,
      "outputs": [
        {
          "output_type": "stream",
          "name": "stdout",
          "text": [
            "Total: Rp45000\n",
            "Diskon: Rp4500.0\n",
            "Bayar: Rp40500.0\n"
          ]
        }
      ]
    },
    {
      "cell_type": "code",
      "source": [
        "def kalkulator():\n",
        "    # TODO: Minta input angka pertama dari user\n",
        "    angka1 = input(\"Masukkan angka pertama: \")\n",
        "    angka2 = input(\"Masukkan angka kedua: \")\n",
        "\n",
        "    angka1 = int(angka1)\n",
        "    angka2 = int(angka2)\n",
        "\n",
        "    hasil = angka1 + angka2\n",
        "\n",
        "    return hasil\n",
        "hasil = kalkulator()\n",
        "print(f\"Hasil penjumlahan: {hasil}\")\n",
        "\n",
        "# Alternatif untuk testing tanpa input:\n",
        "def test_kalkulator():\n",
        "    return 10 + 5\n",
        "\n",
        "print(f\"Test: 10 + 5 = {test_kalkulator()}\")\n"
      ],
      "metadata": {
        "colab": {
          "base_uri": "https://localhost:8080/"
        },
        "id": "memURttT8CyJ",
        "outputId": "512d29f4-ccbb-4440-88ed-a5b31f184f9d"
      },
      "execution_count": 5,
      "outputs": [
        {
          "output_type": "stream",
          "name": "stdout",
          "text": [
            "Masukkan angka pertama: 20\n",
            "Masukkan angka kedua: 120\n",
            "Hasil penjumlahan: 140\n",
            "Test: 10 + 5 = 15\n"
          ]
        }
      ]
    },
    {
      "cell_type": "code",
      "source": [
        "def hitung_rata_rata(a, b, c):\n",
        "    total = a + b + c\n",
        "    return total / 3\n",
        "\n",
        "def format_nilai(nama, nilai):\n",
        "    if nilai >= 80:\n",
        "        grade = \"A\"\n",
        "    elif nilai >= 70:\n",
        "        grade = \"B\"\n",
        "    else:\n",
        "        grade = \"C\"\n",
        "    return f\"{nama}: {nilai} ({grade})\"\n",
        "\n",
        "result1 = hitung_rata_rata(88, 90, 77)\n",
        "result2 = format_nilai(\"Ahmad\", result1)\n",
        "print(result2)\n"
      ],
      "metadata": {
        "colab": {
          "base_uri": "https://localhost:8080/"
        },
        "id": "fypSoQwLAtcv",
        "outputId": "ed31e3bc-a7da-4164-bbd6-8393bf026962"
      },
      "execution_count": 8,
      "outputs": [
        {
          "output_type": "stream",
          "name": "stdout",
          "text": [
            "Ahmad: 85.0 (A)\n"
          ]
        }
      ]
    },
    {
      "cell_type": "code",
      "source": [
        "def proses_data(numbers):\n",
        "    hasil = []\n",
        "    for num in numbers:\n",
        "        if num % 2 == 0:\n",
        "            hasil.append(num * 2)\n",
        "        else:\n",
        "            hasil.append(num + 10)\n",
        "    return hasil\n",
        "\n",
        "def hitung_total(data_list):\n",
        "    return sum(data_list)\n",
        "\n",
        "input_data = [2, 3, 4, 5]\n",
        "step1 = proses_data(input_data)\n",
        "step2 = hitung_total(step1)\n",
        "print(f\"Hasil akhir: {step2}\")\n"
      ],
      "metadata": {
        "colab": {
          "base_uri": "https://localhost:8080/"
        },
        "id": "OkF6CNnLGSQf",
        "outputId": "c951cf1b-c97c-4aa8-a556-f6f4ed6bc5d3"
      },
      "execution_count": 9,
      "outputs": [
        {
          "output_type": "stream",
          "name": "stdout",
          "text": [
            "Hasil akhir: 40\n"
          ]
        }
      ]
    },
    {
      "cell_type": "code",
      "source": [
        "# Sistem pemesanan minuman\n",
        "def hitung_total(menu_pesanan):\n",
        "    total = 0\n",
        "    for nama, harga in menu_pesanan:\n",
        "        total += harga\n",
        "    return total\n",
        "\n",
        "def hitung_diskon(total):\n",
        "    if total > 50000:\n",
        "        return total * 0.1\n",
        "    return 0\n",
        "\n",
        "def tampilkan_ringkasan(nama, menu, total, diskon):\n",
        "    print(f\"Pesanan untuk: {nama}\")\n",
        "    for i, (nama_minuman, harga) in enumerate(menu, 1):\n",
        "        print(f\"{i}. {nama_minuman} - Rp{harga}\")\n",
        "    print(f\"Total: Rp{total}\")\n",
        "    print(f\"Diskon: Rp{diskon}\")\n",
        "    print(f\"Harga Final: Rp{total - diskon}\")\n",
        "\n",
        "# Contoh penggunaan\n",
        "menu = [\n",
        "    (\"Es Teh Manis\", 8000),\n",
        "    (\"Kopi Susu\", 10000),\n",
        "    (\"Jus Mangga\", 20000)\n",
        "]\n",
        "\n",
        "total = hitung_total(menu)\n",
        "diskon = hitung_diskon(total)\n",
        "tampilkan_ringkasan(\"Rani\", menu, total, diskon)\n"
      ],
      "metadata": {
        "colab": {
          "base_uri": "https://localhost:8080/"
        },
        "id": "VK9qL8sMJ0zx",
        "outputId": "bf7ce098-8df0-4be6-b06c-d66d8d88009e"
      },
      "execution_count": 10,
      "outputs": [
        {
          "output_type": "stream",
          "name": "stdout",
          "text": [
            "Pesanan untuk: Rani\n",
            "1. Es Teh Manis - Rp8000\n",
            "2. Kopi Susu - Rp10000\n",
            "3. Jus Mangga - Rp20000\n",
            "Total: Rp38000\n",
            "Diskon: Rp0\n",
            "Harga Final: Rp38000\n"
          ]
        }
      ]
    }
  ]
}