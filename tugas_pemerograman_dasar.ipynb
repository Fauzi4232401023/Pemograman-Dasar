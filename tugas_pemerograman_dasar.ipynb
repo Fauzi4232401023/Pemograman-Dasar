{
  "nbformat": 4,
  "nbformat_minor": 0,
  "metadata": {
    "colab": {
      "provenance": [],
      "authorship_tag": "ABX9TyOtjPK68YaaJ8R8W9hNBPuV",
      "include_colab_link": true
    },
    "kernelspec": {
      "name": "python3",
      "display_name": "Python 3"
    },
    "language_info": {
      "name": "python"
    }
  },
  "cells": [
    {
      "cell_type": "markdown",
      "metadata": {
        "id": "view-in-github",
        "colab_type": "text"
      },
      "source": [
        "<a href=\"https://colab.research.google.com/github/Fauzi4232401023/Pemograman-Dasar/blob/main/tugas_pemerograman_dasar.ipynb\" target=\"_parent\"><img src=\"https://colab.research.google.com/assets/colab-badge.svg\" alt=\"Open In Colab\"/></a>"
      ]
    },
    {
      "cell_type": "code",
      "source": [],
      "metadata": {
        "id": "qXV8E3OmrqkH"
      },
      "execution_count": null,
      "outputs": []
    },
    {
      "cell_type": "code",
      "execution_count": 1,
      "metadata": {
        "colab": {
          "base_uri": "https://localhost:8080/"
        },
        "id": "ZbvJLkFyoC5o",
        "outputId": "718baa65-f958-4f67-e100-3362e4c34da8"
      },
      "outputs": [
        {
          "output_type": "stream",
          "name": "stdout",
          "text": [
            "{'firstname': 'Ahmad', 'lastname': 'Fauzi', 'age': 20, 'ismarried': False}\n"
          ]
        }
      ],
      "source": [
        "data_diri = {'firstname': 'Ahmad', 'lastname': 'Fauzi', 'age': 20, 'ismarried': False}\n",
        "\n",
        "print(data_diri)"
      ]
    },
    {
      "cell_type": "code",
      "source": [
        "numbers = [23, 43, 15, 34]\n",
        "numbers[0] # 23\n",
        "numbers[1] # 43\n",
        "numbers[2] # 15\n",
        "numbers[3] # 34\n",
        "\n",
        "\n",
        "numbers[2] = 51\n",
        "numbers[2] = 51\n",
        "\n",
        "print (numbers[0])\n",
        "print (numbers[1])\n",
        "print (numbers[2])\n",
        "print (numbers[3])"
      ],
      "metadata": {
        "colab": {
          "base_uri": "https://localhost:8080/"
        },
        "id": "o9QrhkxIvYrX",
        "outputId": "15ad6816-b53b-45e1-e3a7-d22b792f6bdb"
      },
      "execution_count": 17,
      "outputs": [
        {
          "output_type": "stream",
          "name": "stdout",
          "text": [
            "23\n",
            "43\n",
            "51\n",
            "34\n"
          ]
        }
      ]
    },
    {
      "cell_type": "code",
      "source": [
        "#deklarasi variabel list numbers\n",
        "numbers = [1, 2, 3]\n",
        "#menambahkan elemen di indeks ke-4\n",
        "numbers.insert(4,5) #[1, 2, 3, 5]\n",
        "#mengubah elemen di indeks ke-4\n",
        "numbers[3] = 4 #[1, 2, 3, 4]\n",
        "#menghapus elemen di indeks ke-2\n",
        "numbers.pop(2) #[1, 2, 4]\n",
        "print (numbers)"
      ],
      "metadata": {
        "colab": {
          "base_uri": "https://localhost:8080/"
        },
        "id": "y0qIecIVyv6-",
        "outputId": "0d2af97d-a3f2-4dfe-c178-73dff256b986"
      },
      "execution_count": 18,
      "outputs": [
        {
          "output_type": "stream",
          "name": "stdout",
          "text": [
            "[1, 2, 4]\n"
          ]
        }
      ]
    },
    {
      "cell_type": "code",
      "source": [
        "#deklarasi variabel list numbers\n",
        "numbers = [1, 2, 3]\n",
        "#menambahkan elemen di indeks ke-4\n",
        "numbers.insert(4,5) #[1, 2, 3, 5]\n",
        "#mengubah elemen di indeks ke-4\n",
        "numbers[3] = 4 #[1, 2, 3, 4]\n",
        "#menghapus elemen di indeks ke-2\n",
        "numbers.pop(2) #[1, 2, 4]\n",
        "print (numbers)"
      ],
      "metadata": {
        "id": "JjmwH8934HNO"
      },
      "execution_count": null,
      "outputs": []
    }
  ]
}