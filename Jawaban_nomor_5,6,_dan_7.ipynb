{
  "nbformat": 4,
  "nbformat_minor": 0,
  "metadata": {
    "colab": {
      "provenance": [],
      "authorship_tag": "ABX9TyOM+ERrWJGBiZ3cBu3yQciQ",
      "include_colab_link": true
    },
    "kernelspec": {
      "name": "python3",
      "display_name": "Python 3"
    },
    "language_info": {
      "name": "python"
    }
  },
  "cells": [
    {
      "cell_type": "markdown",
      "metadata": {
        "id": "view-in-github",
        "colab_type": "text"
      },
      "source": [
        "<a href=\"https://colab.research.google.com/github/Fauzi4232401023/Pemograman-Dasar/blob/main/Jawaban_nomor_5%2C6%2C_dan_7.ipynb\" target=\"_parent\"><img src=\"https://colab.research.google.com/assets/colab-badge.svg\" alt=\"Open In Colab\"/></a>"
      ]
    },
    {
      "cell_type": "code",
      "source": [
        "hewan = [\"Kucing\" , \"Jerapah\" , \"Ikan\"]\n",
        "print(hewan[2])\n",
        "hewan[1]\n"
      ],
      "metadata": {
        "colab": {
          "base_uri": "https://localhost:8080/",
          "height": 53
        },
        "id": "Y9H9loumEggs",
        "outputId": "7c9f6b47-25f3-43a8-e5e4-4fc7b5b8bff3"
      },
      "execution_count": 24,
      "outputs": [
        {
          "output_type": "stream",
          "name": "stdout",
          "text": [
            "Ikan\n"
          ]
        },
        {
          "output_type": "execute_result",
          "data": {
            "text/plain": [
              "'Jerapah'"
            ],
            "application/vnd.google.colaboratory.intrinsic+json": {
              "type": "string"
            }
          },
          "metadata": {},
          "execution_count": 24
        }
      ]
    },
    {
      "cell_type": "code",
      "source": [
        "hobi = [\"Membaca\", \"Main Game\", \"Olahraga\"]\n",
        "identitas = (4232401023, 3)\n",
        "mata_kuliah = {\"Pemrograman Dasar\", \"Matematika\", \"Bahasa Inggris\"}\n",
        "biodata = {\"nama\": \"Fauzi\",\"umur\": 19,\"jurusan\": \"RPE\",\"daerah\": \"Batam\",\"status_lulus\": False,\"identitas\": identitas,\"hobi\": hobi,\"mata_kuliah\": mata_kuliah}\n",
        "\n",
        "print(\"BIODATA MAHASISWA\")\n",
        "print(f\"Nama            : {biodata['nama']}\")\n",
        "print(f\"Umur            : {biodata['umur']} tahun\")\n",
        "print(f\"Jurusan         : {biodata['jurusan']}\")\n",
        "print(f\"Daerah          : {biodata['daerah']}\")\n",
        "print(f\"NIM             : {biodata['identitas'][0]}\")\n",
        "print(f\"Semester        : {biodata['identitas'][1]}\")\n",
        "print(f\"Hobi            : {', '.join(biodata['hobi'])}\")\n",
        "print(f\"Mata Kuliah     : {', '.join(biodata['mata_kuliah'])}\")\n",
        "print(f\"Status Lulus    : {biodata['status_lulus']}\")\n"
      ],
      "metadata": {
        "colab": {
          "base_uri": "https://localhost:8080/"
        },
        "id": "1gNg7GNgERzF",
        "outputId": "1b3a725d-6380-4db7-8a2c-25591dfdeb70"
      },
      "execution_count": 23,
      "outputs": [
        {
          "output_type": "stream",
          "name": "stdout",
          "text": [
            "BIODATA MAHASISWA\n",
            "Nama            : Fauzi\n",
            "Umur            : 19 tahun\n",
            "Jurusan         : RPE\n",
            "Daerah          : Batam\n",
            "NIM             : 4232401023\n",
            "Semester        : 3\n",
            "Hobi            : Membaca, Main Game, Olahraga\n",
            "Mata Kuliah     : Pemrograman Dasar, Matematika, Bahasa Inggris\n",
            "Status Lulus    : False\n"
          ]
        }
      ]
    },
    {
      "cell_type": "code",
      "source": [
        "biodata = {\"nama\": \"Fauzi\",\"umur\": 19,\"jurusan\": \"RPE\",\"semester\": 3,\"mata_kuliah\": \"Pemrograman Dasar\",\"status_lulus\": False,\"daerah\": \"Batam\",\"nim\": 4232401023}\n",
        "\n",
        "print(\"Nama           :\", biodata[\"nama\"])\n",
        "print(\"Umur           :\", biodata[\"umur\"])\n",
        "print(\"Jurusan        :\", biodata[\"jurusan\"])\n",
        "print(\"Semester       :\", biodata[\"semester\"])\n",
        "print(\"Mata Kuliah    :\", biodata[\"mata_kuliah\"])\n",
        "print(\"Status Lulus   :\", biodata[\"status_lulus\"])\n",
        "print(\"Daerah         :\", biodata[\"daerah\"])\n",
        "print(\"NIM            :\", biodata[\"nim\"])\n"
      ],
      "metadata": {
        "colab": {
          "base_uri": "https://localhost:8080/"
        },
        "id": "6dJPorB6D6lO",
        "outputId": "5a60f653-5c94-447e-b481-76571b883c7e"
      },
      "execution_count": 22,
      "outputs": [
        {
          "output_type": "stream",
          "name": "stdout",
          "text": [
            "Nama           : Fauzi\n",
            "Umur           : 19\n",
            "Jurusan        : RPE\n",
            "Semester       : 3\n",
            "Mata Kuliah    : Pemrograman Dasar\n",
            "Status Lulus   : False\n",
            "Daerah         : Batam\n",
            "NIM            : 4232401023\n"
          ]
        }
      ]
    },
    {
      "cell_type": "code",
      "source": [
        "nama: str = \"Fauzi\"\n",
        "umur: int = 19\n",
        "jurusan: str = \"RPE\"\n",
        "semester: int = 3\n",
        "mata_kuliah: str = \"Pemrograman Dasar\"\n",
        "status_lulus: bool = False\n",
        "\n",
        "print(nama, umur, jurusan, semester, mata_kuliah, status_lulus)\n"
      ],
      "metadata": {
        "id": "DINMPC5JEniH",
        "outputId": "15ce4bf0-33bc-4e76-dfd9-9357fe21e6ed",
        "colab": {
          "base_uri": "https://localhost:8080/"
        }
      },
      "execution_count": 25,
      "outputs": [
        {
          "output_type": "stream",
          "name": "stdout",
          "text": [
            "Fauzi 19 RPE 3 Pemrograman Dasar False\n"
          ]
        }
      ]
    }
  ]
}