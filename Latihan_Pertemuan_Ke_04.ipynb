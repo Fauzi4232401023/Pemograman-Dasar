{
  "nbformat": 4,
  "nbformat_minor": 0,
  "metadata": {
    "colab": {
      "provenance": [],
      "authorship_tag": "ABX9TyMITmRlRttfIWI+ydIa5vpR",
      "include_colab_link": true
    },
    "kernelspec": {
      "name": "python3",
      "display_name": "Python 3"
    },
    "language_info": {
      "name": "python"
    }
  },
  "cells": [
    {
      "cell_type": "markdown",
      "metadata": {
        "id": "view-in-github",
        "colab_type": "text"
      },
      "source": [
        "<a href=\"https://colab.research.google.com/github/Fauzi4232401023/Pemograman-Dasar/blob/main/Latihan_Pertemuan_Ke_04.ipynb\" target=\"_parent\"><img src=\"https://colab.research.google.com/assets/colab-badge.svg\" alt=\"Open In Colab\"/></a>"
      ]
    },
    {
      "cell_type": "code",
      "execution_count": 1,
      "metadata": {
        "colab": {
          "base_uri": "https://localhost:8080/"
        },
        "id": "aGgVSsYXF-LW",
        "outputId": "2a788bcc-d158-4e7c-eb61-6fb62a7ef4db"
      },
      "outputs": [
        {
          "output_type": "stream",
          "name": "stdout",
          "text": [
            "Masukkan sebuah angka: 202025\n",
            "Kelipatan 5\n"
          ]
        }
      ],
      "source": [
        "angka = int(input(\"Masukkan sebuah angka: \"))\n",
        "if angka % 5 == 0:\n",
        "    print(\"Kelipatan 5\")\n"
      ]
    },
    {
      "cell_type": "code",
      "source": [
        "tahun = int(input(\"Masukkan tahun: \"))\n",
        "\n",
        "if tahun % 400 == 0:\n",
        "    print(\"Tahun kabisat\")\n",
        "elif tahun % 4 == 0 and tahun % 100 != 0:\n",
        "    print(\"Tahun kabisat\")\n",
        "else:\n",
        "    print(\"Bukan tahun kabisat\")\n"
      ],
      "metadata": {
        "colab": {
          "base_uri": "https://localhost:8080/"
        },
        "id": "Cwo8dReHGIoN",
        "outputId": "e6a569e2-1b74-4f45-8819-b1d626812da6"
      },
      "execution_count": 2,
      "outputs": [
        {
          "output_type": "stream",
          "name": "stdout",
          "text": [
            "Masukkan tahun: 2019\n",
            "Bukan tahun kabisat\n"
          ]
        }
      ]
    },
    {
      "cell_type": "code",
      "source": [
        "jawaban = int(input(\"Berapakah hasil 20 * 7 = \"))\n",
        "if jawaban == 140:\n",
        "    print(\"Jawaban benar!\")\n",
        "else:\n",
        "    print(\"Jawaban salah, hasil yang benar adalah 12.\")\n"
      ],
      "metadata": {
        "colab": {
          "base_uri": "https://localhost:8080/"
        },
        "id": "rJCTZKRSGLAt",
        "outputId": "ac27f2c0-e49d-45a6-c348-8a493be06446"
      },
      "execution_count": 4,
      "outputs": [
        {
          "output_type": "stream",
          "name": "stdout",
          "text": [
            "Berapakah hasil 20 * 7 = 140\n",
            "Jawaban benar!\n"
          ]
        }
      ]
    },
    {
      "cell_type": "code",
      "source": [
        "bulan = int(input(\"Masukkan angka bulan (1-12): \"))\n",
        "\n",
        "if bulan == 1:\n",
        "    print(\"Januari\")\n",
        "elif bulan == 2:\n",
        "    print(\"Februari\")\n",
        "elif bulan == 3:\n",
        "    print(\"Maret\")\n",
        "elif bulan == 4:\n",
        "    print(\"April\")\n",
        "elif bulan == 5:\n",
        "    print(\"Mei\")\n",
        "elif bulan == 6:\n",
        "    print(\"Juni\")\n",
        "elif bulan == 7:\n",
        "    print(\"Juli\")\n",
        "elif bulan == 8:\n",
        "    print(\"Agustus\")\n",
        "elif bulan == 9:\n",
        "    print(\"September\")\n",
        "elif bulan == 10:\n",
        "    print(\"Oktober\")\n",
        "elif bulan == 11:\n",
        "    print(\"November\")\n",
        "elif bulan == 12:\n",
        "    print(\"Desember\")\n",
        "else:\n",
        "    print(\"Input salah\")\n"
      ],
      "metadata": {
        "colab": {
          "base_uri": "https://localhost:8080/"
        },
        "id": "LfmbuvskGMjg",
        "outputId": "23632eab-24ed-4437-afe3-ed6c78b7ed4c"
      },
      "execution_count": 6,
      "outputs": [
        {
          "output_type": "stream",
          "name": "stdout",
          "text": [
            "Masukkan angka bulan (1-12): 12\n",
            "Desember\n"
          ]
        }
      ]
    },
    {
      "cell_type": "code",
      "source": [
        "jam = int(input(\"Masukkan jam (0-23): \"))\n",
        "\n",
        "if jam >= 0 and jam <= 11:\n",
        "    print(\"Selamat Pagi\")\n",
        "elif jam >= 12 and jam <= 15:\n",
        "    print(\"Selamat Siang\")\n",
        "elif jam >= 16 and jam <= 18:\n",
        "    print(\"Selamat Sore\")\n",
        "elif jam >= 19 and jam <= 23:\n",
        "    print(\"Selamat Malam\")\n",
        "else:\n",
        "    print(\"Input tidak valid\")\n"
      ],
      "metadata": {
        "colab": {
          "base_uri": "https://localhost:8080/"
        },
        "id": "TfOiA8hJGNLd",
        "outputId": "f81e6efa-6044-41f4-ef7b-fde81c97bdac"
      },
      "execution_count": 7,
      "outputs": [
        {
          "output_type": "stream",
          "name": "stdout",
          "text": [
            "Masukkan jam (0-23): 20\n",
            "Selamat Malam\n"
          ]
        }
      ]
    }
  ]
}