{
  "nbformat": 4,
  "nbformat_minor": 0,
  "metadata": {
    "colab": {
      "provenance": [],
      "authorship_tag": "ABX9TyNmT9WcFYiCgyFOO/Ra5DF9",
      "include_colab_link": true
    },
    "kernelspec": {
      "name": "python3",
      "display_name": "Python 3"
    },
    "language_info": {
      "name": "python"
    }
  },
  "cells": [
    {
      "cell_type": "markdown",
      "metadata": {
        "id": "view-in-github",
        "colab_type": "text"
      },
      "source": [
        "<a href=\"https://colab.research.google.com/github/Fauzi4232401023/Pemograman-Dasar/blob/main/Tugas_pertemuan_2.ipynb\" target=\"_parent\"><img src=\"https://colab.research.google.com/assets/colab-badge.svg\" alt=\"Open In Colab\"/></a>"
      ]
    },
    {
      "cell_type": "code",
      "execution_count": 1,
      "metadata": {
        "colab": {
          "base_uri": "https://localhost:8080/"
        },
        "id": "5vWDnUkTNd82",
        "outputId": "bda3f037-72b8-4333-c6b4-98f5d1dfa628"
      },
      "outputs": [
        {
          "output_type": "stream",
          "name": "stdout",
          "text": [
            "First Name : Ahmad\n",
            "Last Name  : Fauzi\n",
            "Age        : 20\n",
            "Is Married : False\n"
          ]
        }
      ],
      "source": [
        "\n",
        "firstName = \"Ahmad\"      # string\n",
        "lastName = \"Fauzi\"       # string\n",
        "age = 20                 # integer\n",
        "isMarried = False        # boolean\n",
        "\n",
        "print(\"First Name :\", firstName)\n",
        "print(\"Last Name  :\", lastName)\n",
        "print(\"Age        :\", age)\n",
        "print(\"Is Married :\", isMarried)\n"
      ]
    },
    {
      "cell_type": "code",
      "source": [
        "\n",
        "\n",
        "data_diri = {\n",
        "    \"firstName\": \"Ahmad\",   # string\n",
        "    \"lastName\": \"Fauzi\",    # string\n",
        "    \"age\": 20,              # integer\n",
        "    \"isMarried\": False      # boolean\n",
        "}\n",
        "\n",
        "# Gunakan fungsi print() untuk mengecek hasilnya\n",
        "print(data_diri)\n",
        "\n"
      ],
      "metadata": {
        "colab": {
          "base_uri": "https://localhost:8080/"
        },
        "id": "Z-UIysgtPVmZ",
        "outputId": "f04a3356-56c4-453a-db1b-878d498effb0"
      },
      "execution_count": 2,
      "outputs": [
        {
          "output_type": "stream",
          "name": "stdout",
          "text": [
            "{'firstName': 'Ahmad', 'lastName': 'Fauzi', 'age': 20, 'isMarried': False}\n"
          ]
        }
      ]
    },
    {
      "cell_type": "code",
      "source": [
        "\n",
        "\n",
        "inspeksi = [\n",
        "    \"pemahaman terhadap rencana dan desain\",\n",
        "    \"ketersediaan bahan dan peralatan\",\n",
        "    \"pengawasan pekerjaan\",\n",
        "    \"kualitas konstruksi\",\n",
        "    \"keselamatan kerja\",\n",
        "    \"koordinasi dengan pemilik proyek\"\n",
        "]\n",
        "\n",
        "# Gunakan fungsi print() untuk mengecek hasilnya\n",
        "print(inspeksi)\n"
      ],
      "metadata": {
        "colab": {
          "base_uri": "https://localhost:8080/"
        },
        "id": "t_aKtVhQQ7bz",
        "outputId": "d877e44e-94eb-4b22-a7f6-b7e086f75c33"
      },
      "execution_count": 5,
      "outputs": [
        {
          "output_type": "stream",
          "name": "stdout",
          "text": [
            "['pemahaman terhadap rencana dan desain', 'ketersediaan bahan dan peralatan', 'pengawasan pekerjaan', 'kualitas konstruksi', 'keselamatan kerja', 'koordinasi dengan pemilik proyek']\n"
          ]
        }
      ]
    },
    {
      "cell_type": "code",
      "source": [
        "startTime = {\n",
        "    \"HH\": 9,\n",
        "    \"mm\": 23,\n",
        "    \"ss\": 57\n",
        "}\n",
        "\n",
        "endTime = {\n",
        "    \"HH\": 15,\n",
        "    \"mm\": 25,\n",
        "    \"ss\": 43\n",
        "}\n",
        "\n",
        "# Gunakan fungsi print() untuk mengecek hasilnya\n",
        "print(\"Start Time:\", startTime)\n",
        "print(\"End Time  :\", endTime)\n"
      ],
      "metadata": {
        "colab": {
          "base_uri": "https://localhost:8080/"
        },
        "id": "dfkLlBGWRdsp",
        "outputId": "c3605f4b-4713-48b5-8d22-270772b621f3"
      },
      "execution_count": 3,
      "outputs": [
        {
          "output_type": "stream",
          "name": "stdout",
          "text": [
            "Start Time: {'HH': 9, 'mm': 23, 'ss': 57}\n",
            "End Time  : {'HH': 15, 'mm': 25, 'ss': 43}\n"
          ]
        }
      ]
    },
    {
      "cell_type": "code",
      "source": [
        "\n",
        "# Data awal\n",
        "katalog_A = {\"Laptop\", \"Printer\", \"Mouse\", \"Keyboard\"}\n",
        "katalog_B = {\"Monitor\", \"Mouse\", \"Speaker\", \"Printer\"}\n",
        "produk_diskon = (\"Mouse\", \"Speaker\")\n",
        "\n",
        "# 1. Gabungkan katalog_A dan katalog_B menjadi satu set\n",
        "katalog_lengkap = katalog_A.union(katalog_B)\n",
        "\n",
        "# 2. Cari produk mana dari katalog_lengkap yang juga ada di produk_diskon\n",
        "produk_promo_aktif = katalog_lengkap.intersection(produk_diskon)\n",
        "\n",
        "# Tampilkan hasil\n",
        "print(\"Katalog Lengkap :\", katalog_lengkap)\n",
        "print(\"Produk Promo Aktif :\", produk_promo_aktif)\n"
      ],
      "metadata": {
        "colab": {
          "base_uri": "https://localhost:8080/"
        },
        "id": "GceL2wmHTLbg",
        "outputId": "19acb93a-1dba-4d26-a85d-88235b6cd72a"
      },
      "execution_count": 7,
      "outputs": [
        {
          "output_type": "stream",
          "name": "stdout",
          "text": [
            "Katalog Lengkap : {'Keyboard', 'Laptop', 'Mouse', 'Monitor', 'Printer', 'Speaker'}\n",
            "Produk Promo Aktif : {'Speaker', 'Mouse'}\n"
          ]
        }
      ]
    }
  ]
}