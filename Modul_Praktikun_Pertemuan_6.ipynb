{
  "nbformat": 4,
  "nbformat_minor": 0,
  "metadata": {
    "colab": {
      "provenance": [],
      "authorship_tag": "ABX9TyMXifdkE9J1Kcejfxx9liwZ",
      "include_colab_link": true
    },
    "kernelspec": {
      "name": "python3",
      "display_name": "Python 3"
    },
    "language_info": {
      "name": "python"
    }
  },
  "cells": [
    {
      "cell_type": "markdown",
      "metadata": {
        "id": "view-in-github",
        "colab_type": "text"
      },
      "source": [
        "<a href=\"https://colab.research.google.com/github/Fauzi4232401023/Pemograman-Dasar/blob/main/Modul_Praktikun_Pertemuan_6.ipynb\" target=\"_parent\"><img src=\"https://colab.research.google.com/assets/colab-badge.svg\" alt=\"Open In Colab\"/></a>"
      ]
    },
    {
      "cell_type": "code",
      "execution_count": 2,
      "metadata": {
        "colab": {
          "base_uri": "https://localhost:8080/"
        },
        "id": "ZTREyaM5QVmk",
        "outputId": "7b35e7f2-f859-4928-f0d6-0df55406894a"
      },
      "outputs": [
        {
          "output_type": "stream",
          "name": "stdout",
          "text": [
            "Sistem siap. Selamat datang kembali di sesi praktikum.\n",
            "Berikut data praktikan:\n",
            "Nama   : Ahmad Fauzi\n",
            "NIM    : 4232401023\n",
            "Kelas  : PAGI 3A\n",
            "Prodi  : Rekayasa Pembangit Energi\n",
            "Kampus : Politeknik Negri Batam\n"
          ]
        }
      ],
      "source": [
        "# SOAL 1: Fungsi Inisialisasi Sederhana\n",
        "def Biodata():\n",
        "    print(\"Nama   : Ahmad Fauzi\")\n",
        "    print(\"NIM    : 4232401023\")\n",
        "    print(\"Kelas  : PAGI 3A\")\n",
        "    print(\"Prodi  : Rekayasa Pembangit Energi\")\n",
        "    print(\"Kampus : Politeknik Negri Batam\")\n",
        "\n",
        "def sapa_praktikan():\n",
        "    \"\"\"Menampilkan pesan sambutan dan biodata praktikan.\"\"\"\n",
        "    print(\"Sistem siap. Selamat datang kembali di sesi praktikum.\")\n",
        "    print(\"Berikut data praktikan:\")\n",
        "    Biodata()\n",
        "\n",
        "# Pemanggilan fungsi\n",
        "sapa_praktikan()\n"
      ]
    },
    {
      "cell_type": "code",
      "source": [
        "# SOAL 2: Menghitung Volume Balok (Modifikasi)\n",
        "def hitung_volume_balok(panjang, lebar, tinggi):\n",
        "    \"\"\"Menghitung volume balok dari panjang, lebar, dan tinggi\"\"\"\n",
        "    return panjang * lebar * tinggi\n",
        "\n",
        "# Pemanggilan\n",
        "p = 7\n",
        "l = 3\n",
        "t = 5\n",
        "print(f\"Volume balok dengan ukuran {p} x {l} x {t} adalah: {hitung_volume_balok(p, l, t)}\")\n"
      ],
      "metadata": {
        "colab": {
          "base_uri": "https://localhost:8080/"
        },
        "id": "xDwYVzPfS6JP",
        "outputId": "7c79b9e3-1a34-4a27-c1a9-df5f62c3e6e5"
      },
      "execution_count": 4,
      "outputs": [
        {
          "output_type": "stream",
          "name": "stdout",
          "text": [
            "Volume balok dengan ukuran 7 x 3 x 5 adalah: 105\n"
          ]
        }
      ]
    },
    {
      "cell_type": "code",
      "source": [
        "# SOAL 3: Menghitung Rata-rata dari List Nilai (Modifikasi)\n",
        "def hitung_rata_rata(data_nilai):\n",
        "    \"\"\"Menghitung rata-rata dari list angka menggunakan perulangan for.\"\"\"\n",
        "    total = 0\n",
        "    jumlah_data = 0\n",
        "\n",
        "    # Perulangan untuk menjumlahkan nilai valid\n",
        "    for nilai in data_nilai:\n",
        "        if nilai < 0 or nilai > 100:\n",
        "            print(f\"Nilai {nilai} diabaikan karena tidak valid (harus 0-100).\")\n",
        "            continue  # lewati nilai yang tidak valid\n",
        "        total += nilai\n",
        "        jumlah_data += 1\n",
        "\n",
        "    # Pembagian untuk rata-rata\n",
        "    if jumlah_data > 0:\n",
        "        return total / jumlah_data\n",
        "    return 0\n",
        "\n",
        "# Pemanggilan\n",
        "nilai_praktikan = [85, 78, 92, 65, 90, -20, 108]\n",
        "print(f\"Nilai rata-rata kelas adalah: {hitung_rata_rata(nilai_praktikan)}\")\n",
        "\n"
      ],
      "metadata": {
        "colab": {
          "base_uri": "https://localhost:8080/"
        },
        "id": "zGQjyJFsTnIV",
        "outputId": "e51517fb-ab15-4082-986c-9713dfeb6b38"
      },
      "execution_count": 11,
      "outputs": [
        {
          "output_type": "stream",
          "name": "stdout",
          "text": [
            "Nilai -20 diabaikan karena tidak valid (harus 0-100).\n",
            "Nilai 108 diabaikan karena tidak valid (harus 0-100).\n",
            "Nilai rata-rata kelas adalah: 82.0\n"
          ]
        }
      ]
    },
    {
      "cell_type": "code",
      "source": [
        "# SOAL 4: Sistem Penentuan Predikat Nilai (Modifikasi)\n",
        "def tentukan_predikat(skor):\n",
        "    \"\"\"Menentukan predikat (A, B, C, D, E) berdasarkan skor numerik.\"\"\"\n",
        "\n",
        "    # Pengecekan tipe data agar hanya menerima angka\n",
        "    if not isinstance(skor, (int, float)):\n",
        "        return \"Error: Input harus berupa angka (int atau float).\"\n",
        "\n",
        "    # Pengecekan nilai agar berada di rentang 0–100\n",
        "    if skor < 0 or skor > 100:\n",
        "        return \"Error: Nilai harus antara 0 dan 100.\"\n",
        "\n",
        "    # Percabangan penentuan predikat nilai\n",
        "    if skor >= 85:\n",
        "        return \"A\"\n",
        "    elif skor >= 70:\n",
        "        return \"B\"\n",
        "    elif skor >= 60:\n",
        "        return \"C\"\n",
        "    elif skor >= 50:\n",
        "        return \"D\"\n",
        "    else:\n",
        "        return \"E\"\n",
        "\n",
        "# Pemanggilan fungsi\n",
        "print(f\"Skor 75 mendapat predikat: {tentukan_predikat(75)}\")\n",
        "print(f\"Skor 48 mendapat predikat: {tentukan_predikat(48)}\")\n",
        "print(f\"Skor 'abc' mendapat predikat: {tentukan_predikat('abc')}\")\n",
        "print(f\"Skor 120 mendapat predikat: {tentukan_predikat(120)}\")\n"
      ],
      "metadata": {
        "colab": {
          "base_uri": "https://localhost:8080/"
        },
        "id": "EfAS5BDiUolc",
        "outputId": "edb0d000-9cd6-4eb3-b395-9428209e5baf"
      },
      "execution_count": 12,
      "outputs": [
        {
          "output_type": "stream",
          "name": "stdout",
          "text": [
            "Skor 75 mendapat predikat: B\n",
            "Skor 48 mendapat predikat: E\n",
            "Skor 'abc' mendapat predikat: Error: Input harus berupa angka (int atau float).\n",
            "Skor 120 mendapat predikat: Error: Nilai harus antara 0 dan 100.\n"
          ]
        }
      ]
    },
    {
      "cell_type": "code",
      "source": [
        "# SOAL 5: Menghitung Faktorial dengan Loop While\n",
        "def hitung_faktorial(n):\n",
        "    \"\"\"Menghitung faktorial dari bilangan bulat n menggunakan perulangan while.\"\"\"\n",
        "\n",
        "    # Menangani kasus khusus\n",
        "    if n < 0:\n",
        "        return \"Faktorial tidak terdefinisi untuk bilangan negatif.\"\n",
        "    elif n == 0:\n",
        "        return 1\n",
        "\n",
        "    hasil = 1\n",
        "\n",
        "    # Perulangan berjalan selama n lebih besar dari 1\n",
        "    while n > 1:\n",
        "        hasil *= n      # Kalikan hasil dengan n\n",
        "        n -= 1          # Kurangi n setiap iterasi\n",
        "\n",
        "    return hasil\n",
        "\n",
        "\n",
        "# Pemanggilan fungsi\n",
        "bilangan_n = 3\n",
        "print(f\"Faktorial dari {bilangan_n} adalah: {hitung_faktorial(bilangan_n)}\")  # Output: 24\n"
      ],
      "metadata": {
        "colab": {
          "base_uri": "https://localhost:8080/"
        },
        "id": "z20MDvfHW8M6",
        "outputId": "f3da40b0-1eed-4c1b-8fcc-81f24f58297a"
      },
      "execution_count": 15,
      "outputs": [
        {
          "output_type": "stream",
          "name": "stdout",
          "text": [
            "Faktorial dari 3 adalah: 6\n"
          ]
        }
      ]
    },
    {
      "cell_type": "code",
      "source": [
        "def analisis_suhu(data_suhu, batas_panas=35, batas_dingin=15):\n",
        "    \"\"\"\n",
        "    Menghitung jumlah hari Panas dan Dingin dari data_suhu.\n",
        "    Panas jika suhu >= batas_panas (default 35°C),\n",
        "    Dingin jika suhu <= batas_dingin (default 15°C).\n",
        "    \"\"\"\n",
        "    panas_count = 0\n",
        "    dingin_count = 0  # Inisialisasi penghitung hari Dingin\n",
        "\n",
        "    for suhu in data_suhu:\n",
        "        if suhu >= batas_panas:\n",
        "            panas_count += 1\n",
        "        elif suhu <= batas_dingin:  # Percabangan untuk menghitung hari Dingin\n",
        "            dingin_count += 1\n",
        "\n",
        "    return panas_count, dingin_count\n",
        "\n",
        "# Pemanggilan:\n",
        "suhu_mingguan = [36, 30, 14, 25, 38, 16, 28]\n",
        "\n",
        "# Pemanggilan tanpa parameter opsional (menggunakan default 35 dan 15)\n",
        "jumlah_panas, jumlah_dingin = analisis_suhu(suhu_mingguan)\n",
        "print(f\"Jumlah hari Panas (>={35}°C): {jumlah_panas}\")\n",
        "print(f\"Jumlah hari Dingin (<={15}°C): {jumlah_dingin}\")\n",
        "\n"
      ],
      "metadata": {
        "colab": {
          "base_uri": "https://localhost:8080/"
        },
        "id": "eQsg0IVdbV1o",
        "outputId": "635d54ac-6809-4604-bb70-caef61595bfc"
      },
      "execution_count": 17,
      "outputs": [
        {
          "output_type": "stream",
          "name": "stdout",
          "text": [
            "Jumlah hari Panas (>=35°C): 2\n",
            "Jumlah hari Dingin (<=15°C): 1\n"
          ]
        }
      ]
    }
  ]
}