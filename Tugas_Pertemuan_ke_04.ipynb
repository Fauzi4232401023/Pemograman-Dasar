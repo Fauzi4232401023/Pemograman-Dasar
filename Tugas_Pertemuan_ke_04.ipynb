{
  "nbformat": 4,
  "nbformat_minor": 0,
  "metadata": {
    "colab": {
      "provenance": [],
      "authorship_tag": "ABX9TyPiCo1Sg7/abNo6BBLnHEoP",
      "include_colab_link": true
    },
    "kernelspec": {
      "name": "python3",
      "display_name": "Python 3"
    },
    "language_info": {
      "name": "python"
    }
  },
  "cells": [
    {
      "cell_type": "markdown",
      "metadata": {
        "id": "view-in-github",
        "colab_type": "text"
      },
      "source": [
        "<a href=\"https://colab.research.google.com/github/Fauzi4232401023/Pemograman-Dasar/blob/main/Tugas_Pertemuan_ke_04.ipynb\" target=\"_parent\"><img src=\"https://colab.research.google.com/assets/colab-badge.svg\" alt=\"Open In Colab\"/></a>"
      ]
    },
    {
      "cell_type": "code",
      "source": [
        "print(\"=\"*30)\n",
        "print(\"SELAMAT DATANG DI TOKO SERBA ADA MAKMUR\")\n",
        "print(\"=\"*30)\n",
        "print(\"Daftar Barang:\")\n",
        "print(\"1. Sabun Mandi   - Rp 8000\")\n",
        "print(\"2. Pasta Gigi    - Rp 12000\")\n",
        "print(\"3. Sampo         - Rp 15000\")\n",
        "print(\"4. Minyak Goreng - Rp 20000\")\n",
        "\n",
        "pilihan = int(input(\"Masukkan nomor barang (1-4): \"))\n",
        "nama_barang = \"\"\n",
        "harga = 0\n",
        "\n",
        "if pilihan == 1:\n",
        "    nama_barang = \"Sabun Mandi\"\n",
        "    harga = 8000\n",
        "elif pilihan == 2:\n",
        "    nama_barang = \"Pasta Gigi\"\n",
        "    harga = 12000\n",
        "elif pilihan == 3:\n",
        "    nama_barang = \"Sampo\"\n",
        "    harga = 15000\n",
        "elif pilihan == 4:\n",
        "    nama_barang = \"Minyak Goreng\"\n",
        "    harga = 20000\n",
        "else:\n",
        "    print(\"Pilihan tidak valid.\")\n",
        "    exit()\n",
        "\n",
        "jumlah = int(input(\"Masukkan jumlah pembelian: \"))\n",
        "total_belanja = harga * jumlah\n",
        "\n",
        "if total_belanja >= 100000:\n",
        "    diskon = 0.70\n",
        "elif total_belanja >= 50000:\n",
        "    diskon = 0.50\n",
        "elif total_belanja >= 25000:\n",
        "    diskon = 0.30\n",
        "else:\n",
        "    diskon = 0\n",
        "\n",
        "potongan = total_belanja * diskon\n",
        "total_bayar = total_belanja - potongan\n",
        "\n",
        "print(f\"\\nTotal Belanja: Rp {total_belanja}\")\n",
        "print(f\"Diskon: {int(diskon*100)}% (Rp {int(potongan)})\")\n",
        "print(f\"Total Bayar: Rp {int(total_bayar)}\")\n",
        "\n",
        "uang = int(input(\"Masukkan uang pembayaran: Rp \"))\n",
        "if uang >= total_bayar:\n",
        "    print(f\"Kembalian Anda: Rp {int(uang - total_bayar)}\")\n",
        "else:\n",
        "    print(f\"Uang Anda kurang Rp {int(total_bayar - uang)}\")\n",
        "\n",
        "print(\"=\"*30)\n",
        "print(\"Terima kasih sudah berbelanja di Toko Serba Ada MAKMUR!\")\n",
        "print(\"=\"*30)\n"
      ],
      "metadata": {
        "colab": {
          "base_uri": "https://localhost:8080/"
        },
        "id": "pHaJbaQSMacU",
        "outputId": "ef52f3d7-9d24-4a59-97a8-93b4197343ec"
      },
      "execution_count": 5,
      "outputs": [
        {
          "output_type": "stream",
          "name": "stdout",
          "text": [
            "==============================\n",
            "SELAMAT DATANG DI TOKO SERBA ADA MAKMUR\n",
            "==============================\n",
            "Daftar Barang:\n",
            "1. Sabun Mandi   - Rp 8000\n",
            "2. Pasta Gigi    - Rp 12000\n",
            "3. Sampo         - Rp 15000\n",
            "4. Minyak Goreng - Rp 20000\n",
            "Masukkan nomor barang (1-4): 2\n",
            "Masukkan jumlah pembelian: 10\n",
            "\n",
            "Total Belanja: Rp 120000\n",
            "Diskon: 70% (Rp 84000)\n",
            "Total Bayar: Rp 36000\n",
            "Masukkan uang pembayaran: Rp 150000\n",
            "Kembalian Anda: Rp 114000\n",
            "==============================\n",
            "Terima kasih sudah berbelanja di Toko Serba Ada MAKMUR!\n",
            "==============================\n"
          ]
        }
      ]
    }
  ]
}